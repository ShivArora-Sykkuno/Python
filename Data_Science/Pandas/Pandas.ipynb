{
 "cells": [
  {
   "cell_type": "code",
   "execution_count": 1,
   "id": "faedbf09",
   "metadata": {},
   "outputs": [],
   "source": [
    "import pandas as pd"
   ]
  },
  {
   "cell_type": "markdown",
   "id": "08c4fbfa",
   "metadata": {},
   "source": [
    "# Series are 1D"
   ]
  },
  {
   "cell_type": "code",
   "execution_count": 2,
   "id": "99bf3c22",
   "metadata": {},
   "outputs": [],
   "source": [
    "car_brands = pd.Series([\"BMW\", \"Tesla\", \"Audi\", \"Benz\", \"Maruti\"])"
   ]
  },
  {
   "cell_type": "code",
   "execution_count": 3,
   "id": "4e3be3d7",
   "metadata": {},
   "outputs": [
    {
     "name": "stdout",
     "output_type": "stream",
     "text": [
      "0       BMW\n",
      "1     Tesla\n",
      "2      Audi\n",
      "3      Benz\n",
      "4    Maruti\n",
      "dtype: object\n"
     ]
    }
   ],
   "source": [
    "print(car_brands)"
   ]
  },
  {
   "cell_type": "code",
   "execution_count": 4,
   "id": "d9fb5a1c",
   "metadata": {},
   "outputs": [],
   "source": [
    "colors = pd.Series([\"Red\", \"Blue\", \"Black\", \"Grey\", \"White\"])"
   ]
  },
  {
   "cell_type": "markdown",
   "id": "c43083e1",
   "metadata": {},
   "source": [
    "# Data Frames Are 2-D"
   ]
  },
  {
   "cell_type": "code",
   "execution_count": 5,
   "id": "c253617c",
   "metadata": {},
   "outputs": [],
   "source": [
    "data_frame = pd.DataFrame({\"Cars\": car_brands, \"Colours\" : colors})"
   ]
  },
  {
   "cell_type": "code",
   "execution_count": 6,
   "id": "5694eec1",
   "metadata": {},
   "outputs": [
    {
     "name": "stdout",
     "output_type": "stream",
     "text": [
      "     Cars Colours\n",
      "0     BMW     Red\n",
      "1   Tesla    Blue\n",
      "2    Audi   Black\n",
      "3    Benz    Grey\n",
      "4  Maruti   White\n"
     ]
    }
   ],
   "source": [
    "print(data_frame)"
   ]
  },
  {
   "cell_type": "code",
   "execution_count": 7,
   "id": "7d3a5b74",
   "metadata": {},
   "outputs": [],
   "source": [
    "# Importing Data\n",
    "df = pd.read_csv(\"cities.csv\")"
   ]
  },
  {
   "cell_type": "code",
   "execution_count": 8,
   "id": "3ed5bfb5",
   "metadata": {},
   "outputs": [
    {
     "data": {
      "text/html": [
       "<div>\n",
       "<style scoped>\n",
       "    .dataframe tbody tr th:only-of-type {\n",
       "        vertical-align: middle;\n",
       "    }\n",
       "\n",
       "    .dataframe tbody tr th {\n",
       "        vertical-align: top;\n",
       "    }\n",
       "\n",
       "    .dataframe thead th {\n",
       "        text-align: right;\n",
       "    }\n",
       "</style>\n",
       "<table border=\"1\" class=\"dataframe\">\n",
       "  <thead>\n",
       "    <tr style=\"text-align: right;\">\n",
       "      <th></th>\n",
       "      <th>LatD</th>\n",
       "      <th>\"LatM\"</th>\n",
       "      <th>\"LatS\"</th>\n",
       "      <th>\"NS\"</th>\n",
       "      <th>\"LonD\"</th>\n",
       "      <th>\"LonM\"</th>\n",
       "      <th>\"LonS\"</th>\n",
       "      <th>\"EW\"</th>\n",
       "      <th>\"City\"</th>\n",
       "      <th>\"State\"</th>\n",
       "    </tr>\n",
       "  </thead>\n",
       "  <tbody>\n",
       "    <tr>\n",
       "      <th>0</th>\n",
       "      <td>41</td>\n",
       "      <td>5</td>\n",
       "      <td>59</td>\n",
       "      <td>\"N\"</td>\n",
       "      <td>80</td>\n",
       "      <td>39</td>\n",
       "      <td>0</td>\n",
       "      <td>\"W\"</td>\n",
       "      <td>\"Youngstown\"</td>\n",
       "      <td>OH</td>\n",
       "    </tr>\n",
       "    <tr>\n",
       "      <th>1</th>\n",
       "      <td>42</td>\n",
       "      <td>52</td>\n",
       "      <td>48</td>\n",
       "      <td>\"N\"</td>\n",
       "      <td>97</td>\n",
       "      <td>23</td>\n",
       "      <td>23</td>\n",
       "      <td>\"W\"</td>\n",
       "      <td>\"Yankton\"</td>\n",
       "      <td>SD</td>\n",
       "    </tr>\n",
       "    <tr>\n",
       "      <th>2</th>\n",
       "      <td>46</td>\n",
       "      <td>35</td>\n",
       "      <td>59</td>\n",
       "      <td>\"N\"</td>\n",
       "      <td>120</td>\n",
       "      <td>30</td>\n",
       "      <td>36</td>\n",
       "      <td>\"W\"</td>\n",
       "      <td>\"Yakima\"</td>\n",
       "      <td>WA</td>\n",
       "    </tr>\n",
       "    <tr>\n",
       "      <th>3</th>\n",
       "      <td>42</td>\n",
       "      <td>16</td>\n",
       "      <td>12</td>\n",
       "      <td>\"N\"</td>\n",
       "      <td>71</td>\n",
       "      <td>48</td>\n",
       "      <td>0</td>\n",
       "      <td>\"W\"</td>\n",
       "      <td>\"Worcester\"</td>\n",
       "      <td>MA</td>\n",
       "    </tr>\n",
       "    <tr>\n",
       "      <th>4</th>\n",
       "      <td>43</td>\n",
       "      <td>37</td>\n",
       "      <td>48</td>\n",
       "      <td>\"N\"</td>\n",
       "      <td>89</td>\n",
       "      <td>46</td>\n",
       "      <td>11</td>\n",
       "      <td>\"W\"</td>\n",
       "      <td>\"Wisconsin Dells\"</td>\n",
       "      <td>WI</td>\n",
       "    </tr>\n",
       "    <tr>\n",
       "      <th>...</th>\n",
       "      <td>...</td>\n",
       "      <td>...</td>\n",
       "      <td>...</td>\n",
       "      <td>...</td>\n",
       "      <td>...</td>\n",
       "      <td>...</td>\n",
       "      <td>...</td>\n",
       "      <td>...</td>\n",
       "      <td>...</td>\n",
       "      <td>...</td>\n",
       "    </tr>\n",
       "    <tr>\n",
       "      <th>123</th>\n",
       "      <td>39</td>\n",
       "      <td>31</td>\n",
       "      <td>12</td>\n",
       "      <td>\"N\"</td>\n",
       "      <td>119</td>\n",
       "      <td>48</td>\n",
       "      <td>35</td>\n",
       "      <td>\"W\"</td>\n",
       "      <td>\"Reno\"</td>\n",
       "      <td>NV</td>\n",
       "    </tr>\n",
       "    <tr>\n",
       "      <th>124</th>\n",
       "      <td>50</td>\n",
       "      <td>25</td>\n",
       "      <td>11</td>\n",
       "      <td>\"N\"</td>\n",
       "      <td>104</td>\n",
       "      <td>39</td>\n",
       "      <td>0</td>\n",
       "      <td>\"W\"</td>\n",
       "      <td>\"Regina\"</td>\n",
       "      <td>SA</td>\n",
       "    </tr>\n",
       "    <tr>\n",
       "      <th>125</th>\n",
       "      <td>40</td>\n",
       "      <td>10</td>\n",
       "      <td>48</td>\n",
       "      <td>\"N\"</td>\n",
       "      <td>122</td>\n",
       "      <td>14</td>\n",
       "      <td>23</td>\n",
       "      <td>\"W\"</td>\n",
       "      <td>\"Red Bluff\"</td>\n",
       "      <td>CA</td>\n",
       "    </tr>\n",
       "    <tr>\n",
       "      <th>126</th>\n",
       "      <td>40</td>\n",
       "      <td>19</td>\n",
       "      <td>48</td>\n",
       "      <td>\"N\"</td>\n",
       "      <td>75</td>\n",
       "      <td>55</td>\n",
       "      <td>48</td>\n",
       "      <td>\"W\"</td>\n",
       "      <td>\"Reading\"</td>\n",
       "      <td>PA</td>\n",
       "    </tr>\n",
       "    <tr>\n",
       "      <th>127</th>\n",
       "      <td>41</td>\n",
       "      <td>9</td>\n",
       "      <td>35</td>\n",
       "      <td>\"N\"</td>\n",
       "      <td>81</td>\n",
       "      <td>14</td>\n",
       "      <td>23</td>\n",
       "      <td>\"W\"</td>\n",
       "      <td>\"Ravenna\"</td>\n",
       "      <td>OH</td>\n",
       "    </tr>\n",
       "  </tbody>\n",
       "</table>\n",
       "<p>128 rows × 10 columns</p>\n",
       "</div>"
      ],
      "text/plain": [
       "     LatD   \"LatM\"   \"LatS\"  \"NS\"   \"LonD\"   \"LonM\"   \"LonS\"  \"EW\"  \\\n",
       "0      41        5       59   \"N\"       80       39        0   \"W\"   \n",
       "1      42       52       48   \"N\"       97       23       23   \"W\"   \n",
       "2      46       35       59   \"N\"      120       30       36   \"W\"   \n",
       "3      42       16       12   \"N\"       71       48        0   \"W\"   \n",
       "4      43       37       48   \"N\"       89       46       11   \"W\"   \n",
       "..    ...      ...      ...   ...      ...      ...      ...   ...   \n",
       "123    39       31       12   \"N\"      119       48       35   \"W\"   \n",
       "124    50       25       11   \"N\"      104       39        0   \"W\"   \n",
       "125    40       10       48   \"N\"      122       14       23   \"W\"   \n",
       "126    40       19       48   \"N\"       75       55       48   \"W\"   \n",
       "127    41        9       35   \"N\"       81       14       23   \"W\"   \n",
       "\n",
       "                 \"City\"  \"State\"  \n",
       "0          \"Youngstown\"       OH  \n",
       "1             \"Yankton\"       SD  \n",
       "2              \"Yakima\"       WA  \n",
       "3           \"Worcester\"       MA  \n",
       "4     \"Wisconsin Dells\"       WI  \n",
       "..                  ...      ...  \n",
       "123              \"Reno\"       NV  \n",
       "124            \"Regina\"       SA  \n",
       "125         \"Red Bluff\"       CA  \n",
       "126           \"Reading\"       PA  \n",
       "127           \"Ravenna\"      OH   \n",
       "\n",
       "[128 rows x 10 columns]"
      ]
     },
     "execution_count": 8,
     "metadata": {},
     "output_type": "execute_result"
    }
   ],
   "source": [
    "df"
   ]
  },
  {
   "cell_type": "code",
   "execution_count": 9,
   "id": "4c5bd67d",
   "metadata": {},
   "outputs": [],
   "source": [
    "grades = pd.read_csv(\"grades.csv\")"
   ]
  },
  {
   "cell_type": "code",
   "execution_count": 10,
   "id": "3edf2e89",
   "metadata": {},
   "outputs": [
    {
     "data": {
      "text/html": [
       "<div>\n",
       "<style scoped>\n",
       "    .dataframe tbody tr th:only-of-type {\n",
       "        vertical-align: middle;\n",
       "    }\n",
       "\n",
       "    .dataframe tbody tr th {\n",
       "        vertical-align: top;\n",
       "    }\n",
       "\n",
       "    .dataframe thead th {\n",
       "        text-align: right;\n",
       "    }\n",
       "</style>\n",
       "<table border=\"1\" class=\"dataframe\">\n",
       "  <thead>\n",
       "    <tr style=\"text-align: right;\">\n",
       "      <th></th>\n",
       "      <th>lastname</th>\n",
       "      <th>firstname</th>\n",
       "      <th>SSN</th>\n",
       "      <th>Test1</th>\n",
       "      <th>Test2</th>\n",
       "      <th>Test3</th>\n",
       "      <th>Test4</th>\n",
       "      <th>Final</th>\n",
       "      <th>Grade</th>\n",
       "    </tr>\n",
       "  </thead>\n",
       "  <tbody>\n",
       "    <tr>\n",
       "      <th>0</th>\n",
       "      <td>Alfalfa</td>\n",
       "      <td>\"Aloysius\"</td>\n",
       "      <td>\"123-45-6789\"</td>\n",
       "      <td>40.0</td>\n",
       "      <td>90.0</td>\n",
       "      <td>100.0</td>\n",
       "      <td>83.0</td>\n",
       "      <td>49.0</td>\n",
       "      <td>\"D-\"</td>\n",
       "    </tr>\n",
       "    <tr>\n",
       "      <th>1</th>\n",
       "      <td>Alfred</td>\n",
       "      <td>\"University\"</td>\n",
       "      <td>\"123-12-1234\"</td>\n",
       "      <td>41.0</td>\n",
       "      <td>97.0</td>\n",
       "      <td>96.0</td>\n",
       "      <td>97.0</td>\n",
       "      <td>48.0</td>\n",
       "      <td>\"D+\"</td>\n",
       "    </tr>\n",
       "    <tr>\n",
       "      <th>2</th>\n",
       "      <td>Gerty</td>\n",
       "      <td>\"Gramma\"</td>\n",
       "      <td>\"567-89-0123\"</td>\n",
       "      <td>41.0</td>\n",
       "      <td>80.0</td>\n",
       "      <td>60.0</td>\n",
       "      <td>40.0</td>\n",
       "      <td>44.0</td>\n",
       "      <td>\"C\"</td>\n",
       "    </tr>\n",
       "    <tr>\n",
       "      <th>3</th>\n",
       "      <td>Android</td>\n",
       "      <td>\"Electric\"</td>\n",
       "      <td>\"087-65-4321\"</td>\n",
       "      <td>42.0</td>\n",
       "      <td>23.0</td>\n",
       "      <td>36.0</td>\n",
       "      <td>45.0</td>\n",
       "      <td>47.0</td>\n",
       "      <td>\"B-\"</td>\n",
       "    </tr>\n",
       "    <tr>\n",
       "      <th>4</th>\n",
       "      <td>Bumpkin</td>\n",
       "      <td>\"Fred\"</td>\n",
       "      <td>\"456-78-9012\"</td>\n",
       "      <td>43.0</td>\n",
       "      <td>78.0</td>\n",
       "      <td>88.0</td>\n",
       "      <td>77.0</td>\n",
       "      <td>45.0</td>\n",
       "      <td>\"A-\"</td>\n",
       "    </tr>\n",
       "    <tr>\n",
       "      <th>5</th>\n",
       "      <td>Rubble</td>\n",
       "      <td>\"Betty\"</td>\n",
       "      <td>\"234-56-7890\"</td>\n",
       "      <td>44.0</td>\n",
       "      <td>90.0</td>\n",
       "      <td>80.0</td>\n",
       "      <td>90.0</td>\n",
       "      <td>46.0</td>\n",
       "      <td>\"C-\"</td>\n",
       "    </tr>\n",
       "    <tr>\n",
       "      <th>6</th>\n",
       "      <td>Noshow</td>\n",
       "      <td>\"Cecil\"</td>\n",
       "      <td>\"345-67-8901\"</td>\n",
       "      <td>45.0</td>\n",
       "      <td>11.0</td>\n",
       "      <td>-1.0</td>\n",
       "      <td>4.0</td>\n",
       "      <td>43.0</td>\n",
       "      <td>\"F\"</td>\n",
       "    </tr>\n",
       "    <tr>\n",
       "      <th>7</th>\n",
       "      <td>Buff</td>\n",
       "      <td>\"Bif\"</td>\n",
       "      <td>\"632-79-9939\"</td>\n",
       "      <td>46.0</td>\n",
       "      <td>20.0</td>\n",
       "      <td>30.0</td>\n",
       "      <td>40.0</td>\n",
       "      <td>50.0</td>\n",
       "      <td>\"B+\"</td>\n",
       "    </tr>\n",
       "    <tr>\n",
       "      <th>8</th>\n",
       "      <td>Airpump</td>\n",
       "      <td>\"Andrew\"</td>\n",
       "      <td>\"223-45-6789\"</td>\n",
       "      <td>49.0      1.0</td>\n",
       "      <td>90.0</td>\n",
       "      <td>100.0</td>\n",
       "      <td>83.0</td>\n",
       "      <td>\"A\"</td>\n",
       "      <td>NaN</td>\n",
       "    </tr>\n",
       "    <tr>\n",
       "      <th>9</th>\n",
       "      <td>Backus</td>\n",
       "      <td>\"Jim\"</td>\n",
       "      <td>\"143-12-1234\"</td>\n",
       "      <td>48.0</td>\n",
       "      <td>1.0</td>\n",
       "      <td>97.0</td>\n",
       "      <td>96.0</td>\n",
       "      <td>97.0</td>\n",
       "      <td>\"A+\"</td>\n",
       "    </tr>\n",
       "    <tr>\n",
       "      <th>10</th>\n",
       "      <td>Carnivore</td>\n",
       "      <td>\"Art\"</td>\n",
       "      <td>\"565-89-0123\"</td>\n",
       "      <td>44.0</td>\n",
       "      <td>1.0</td>\n",
       "      <td>80.0</td>\n",
       "      <td>60.0</td>\n",
       "      <td>40.0</td>\n",
       "      <td>\"D+\"</td>\n",
       "    </tr>\n",
       "    <tr>\n",
       "      <th>11</th>\n",
       "      <td>Dandy</td>\n",
       "      <td>\"Jim\"</td>\n",
       "      <td>\"087-75-4321\"</td>\n",
       "      <td>47.0</td>\n",
       "      <td>1.0</td>\n",
       "      <td>23.0</td>\n",
       "      <td>36.0</td>\n",
       "      <td>45.0</td>\n",
       "      <td>\"C+\"</td>\n",
       "    </tr>\n",
       "    <tr>\n",
       "      <th>12</th>\n",
       "      <td>Elephant</td>\n",
       "      <td>\"Ima\"</td>\n",
       "      <td>\"456-71-9012\"</td>\n",
       "      <td>45.0</td>\n",
       "      <td>1.0</td>\n",
       "      <td>78.0</td>\n",
       "      <td>88.0</td>\n",
       "      <td>77.0</td>\n",
       "      <td>\"B-\"</td>\n",
       "    </tr>\n",
       "    <tr>\n",
       "      <th>13</th>\n",
       "      <td>Franklin</td>\n",
       "      <td>\"Benny\"</td>\n",
       "      <td>\"234-56-2890\"</td>\n",
       "      <td>50.0</td>\n",
       "      <td>1.0</td>\n",
       "      <td>90.0</td>\n",
       "      <td>80.0</td>\n",
       "      <td>90.0</td>\n",
       "      <td>\"B-\"</td>\n",
       "    </tr>\n",
       "    <tr>\n",
       "      <th>14</th>\n",
       "      <td>George</td>\n",
       "      <td>\"Boy\"</td>\n",
       "      <td>\"345-67-3901\"</td>\n",
       "      <td>40.0</td>\n",
       "      <td>1.0</td>\n",
       "      <td>11.0</td>\n",
       "      <td>-1.0</td>\n",
       "      <td>4.0</td>\n",
       "      <td>\"B\"</td>\n",
       "    </tr>\n",
       "    <tr>\n",
       "      <th>15</th>\n",
       "      <td>Heffalump</td>\n",
       "      <td>\"Harvey\"</td>\n",
       "      <td>\"632-79-9439\"</td>\n",
       "      <td>30.0</td>\n",
       "      <td>1.0</td>\n",
       "      <td>20.0</td>\n",
       "      <td>30.0</td>\n",
       "      <td>40.0</td>\n",
       "      <td>\"C\"</td>\n",
       "    </tr>\n",
       "  </tbody>\n",
       "</table>\n",
       "</div>"
      ],
      "text/plain": [
       "     lastname         firstname                    SSN           Test1  \\\n",
       "0     Alfalfa        \"Aloysius\"          \"123-45-6789\"            40.0   \n",
       "1      Alfred      \"University\"          \"123-12-1234\"            41.0   \n",
       "2       Gerty          \"Gramma\"          \"567-89-0123\"            41.0   \n",
       "3     Android        \"Electric\"          \"087-65-4321\"            42.0   \n",
       "4     Bumpkin            \"Fred\"          \"456-78-9012\"            43.0   \n",
       "5      Rubble           \"Betty\"          \"234-56-7890\"            44.0   \n",
       "6      Noshow           \"Cecil\"          \"345-67-8901\"            45.0   \n",
       "7        Buff             \"Bif\"          \"632-79-9939\"            46.0   \n",
       "8     Airpump          \"Andrew\"          \"223-45-6789\"   49.0      1.0   \n",
       "9      Backus             \"Jim\"          \"143-12-1234\"            48.0   \n",
       "10  Carnivore             \"Art\"          \"565-89-0123\"            44.0   \n",
       "11      Dandy             \"Jim\"          \"087-75-4321\"            47.0   \n",
       "12   Elephant             \"Ima\"          \"456-71-9012\"            45.0   \n",
       "13   Franklin           \"Benny\"          \"234-56-2890\"            50.0   \n",
       "14     George             \"Boy\"          \"345-67-3901\"            40.0   \n",
       "15  Heffalump          \"Harvey\"          \"632-79-9439\"            30.0   \n",
       "\n",
       "     Test2   Test3   Test4     Final    Grade  \n",
       "0     90.0   100.0    83.0      49.0     \"D-\"  \n",
       "1     97.0    96.0    97.0      48.0     \"D+\"  \n",
       "2     80.0    60.0    40.0      44.0      \"C\"  \n",
       "3     23.0    36.0    45.0      47.0     \"B-\"  \n",
       "4     78.0    88.0    77.0      45.0     \"A-\"  \n",
       "5     90.0    80.0    90.0      46.0     \"C-\"  \n",
       "6     11.0    -1.0     4.0      43.0      \"F\"  \n",
       "7     20.0    30.0    40.0      50.0     \"B+\"  \n",
       "8     90.0   100.0    83.0       \"A\"      NaN  \n",
       "9      1.0    97.0    96.0      97.0     \"A+\"  \n",
       "10     1.0    80.0    60.0      40.0     \"D+\"  \n",
       "11     1.0    23.0    36.0      45.0     \"C+\"  \n",
       "12     1.0    78.0    88.0      77.0     \"B-\"  \n",
       "13     1.0    90.0    80.0      90.0     \"B-\"  \n",
       "14     1.0    11.0    -1.0       4.0      \"B\"  \n",
       "15     1.0    20.0    30.0      40.0      \"C\"  "
      ]
     },
     "execution_count": 10,
     "metadata": {},
     "output_type": "execute_result"
    }
   ],
   "source": [
    "grades"
   ]
  },
  {
   "cell_type": "markdown",
   "id": "5efb4c58",
   "metadata": {},
   "source": [
    "###  Describe Data"
   ]
  },
  {
   "cell_type": "code",
   "execution_count": 11,
   "id": "98f28a08",
   "metadata": {},
   "outputs": [
    {
     "data": {
      "text/plain": [
       "lastname          object\n",
       " firstname        object\n",
       " SSN              object\n",
       "        Test1     object\n",
       " Test2           float64\n",
       " Test3           float64\n",
       " Test4           float64\n",
       " Final            object\n",
       " Grade            object\n",
       "dtype: object"
      ]
     },
     "execution_count": 11,
     "metadata": {},
     "output_type": "execute_result"
    }
   ],
   "source": [
    "# Attributes - Which do not have paranthesis for example\n",
    "grades.dtypes\n",
    "\n",
    "\n",
    "# functions - which do have paranthesis for example\n",
    "# x = df.to_csv()"
   ]
  },
  {
   "cell_type": "code",
   "execution_count": 12,
   "id": "1fbf82f5",
   "metadata": {},
   "outputs": [
    {
     "data": {
      "text/plain": [
       "Index(['lastname', ' firstname', ' SSN', '        Test1', ' Test2', ' Test3',\n",
       "       ' Test4', ' Final', ' Grade'],\n",
       "      dtype='object')"
      ]
     },
     "execution_count": 12,
     "metadata": {},
     "output_type": "execute_result"
    }
   ],
   "source": [
    "grades.columns"
   ]
  },
  {
   "cell_type": "code",
   "execution_count": 13,
   "id": "1451f4e3",
   "metadata": {},
   "outputs": [
    {
     "data": {
      "text/plain": [
       "RangeIndex(start=0, stop=16, step=1)"
      ]
     },
     "execution_count": 13,
     "metadata": {},
     "output_type": "execute_result"
    }
   ],
   "source": [
    "grades.index"
   ]
  },
  {
   "cell_type": "code",
   "execution_count": 14,
   "id": "f6fc8f68",
   "metadata": {},
   "outputs": [
    {
     "name": "stdout",
     "output_type": "stream",
     "text": [
      "<class 'pandas.core.frame.DataFrame'>\n",
      "RangeIndex: 16 entries, 0 to 15\n",
      "Data columns (total 9 columns):\n",
      " #   Column         Non-Null Count  Dtype  \n",
      "---  ------         --------------  -----  \n",
      " 0   lastname       16 non-null     object \n",
      " 1    firstname     16 non-null     object \n",
      " 2    SSN           16 non-null     object \n",
      " 3           Test1  16 non-null     object \n",
      " 4    Test2         16 non-null     float64\n",
      " 5    Test3         16 non-null     float64\n",
      " 6    Test4         16 non-null     float64\n",
      " 7    Final         16 non-null     object \n",
      " 8    Grade         15 non-null     object \n",
      "dtypes: float64(3), object(6)\n",
      "memory usage: 1.2+ KB\n"
     ]
    }
   ],
   "source": [
    "grades.info()"
   ]
  },
  {
   "cell_type": "code",
   "execution_count": 15,
   "id": "75032a3b",
   "metadata": {},
   "outputs": [
    {
     "ename": "KeyError",
     "evalue": "'Last name'",
     "output_type": "error",
     "traceback": [
      "\u001b[1;31m---------------------------------------------------------------------------\u001b[0m",
      "\u001b[1;31mKeyError\u001b[0m                                  Traceback (most recent call last)",
      "File \u001b[1;32m~\\AppData\\Local\\Packages\\PythonSoftwareFoundation.Python.3.8_qbz5n2kfra8p0\\LocalCache\\local-packages\\Python38\\site-packages\\pandas\\core\\indexes\\base.py:3621\u001b[0m, in \u001b[0;36mIndex.get_loc\u001b[1;34m(self, key, method, tolerance)\u001b[0m\n\u001b[0;32m   3620\u001b[0m \u001b[38;5;28;01mtry\u001b[39;00m:\n\u001b[1;32m-> 3621\u001b[0m     \u001b[38;5;28;01mreturn\u001b[39;00m \u001b[38;5;28;43mself\u001b[39;49m\u001b[38;5;241;43m.\u001b[39;49m\u001b[43m_engine\u001b[49m\u001b[38;5;241;43m.\u001b[39;49m\u001b[43mget_loc\u001b[49m\u001b[43m(\u001b[49m\u001b[43mcasted_key\u001b[49m\u001b[43m)\u001b[49m\n\u001b[0;32m   3622\u001b[0m \u001b[38;5;28;01mexcept\u001b[39;00m \u001b[38;5;167;01mKeyError\u001b[39;00m \u001b[38;5;28;01mas\u001b[39;00m err:\n",
      "File \u001b[1;32m~\\AppData\\Local\\Packages\\PythonSoftwareFoundation.Python.3.8_qbz5n2kfra8p0\\LocalCache\\local-packages\\Python38\\site-packages\\pandas\\_libs\\index.pyx:136\u001b[0m, in \u001b[0;36mpandas._libs.index.IndexEngine.get_loc\u001b[1;34m()\u001b[0m\n",
      "File \u001b[1;32m~\\AppData\\Local\\Packages\\PythonSoftwareFoundation.Python.3.8_qbz5n2kfra8p0\\LocalCache\\local-packages\\Python38\\site-packages\\pandas\\_libs\\index.pyx:163\u001b[0m, in \u001b[0;36mpandas._libs.index.IndexEngine.get_loc\u001b[1;34m()\u001b[0m\n",
      "File \u001b[1;32mpandas\\_libs\\hashtable_class_helper.pxi:5198\u001b[0m, in \u001b[0;36mpandas._libs.hashtable.PyObjectHashTable.get_item\u001b[1;34m()\u001b[0m\n",
      "File \u001b[1;32mpandas\\_libs\\hashtable_class_helper.pxi:5206\u001b[0m, in \u001b[0;36mpandas._libs.hashtable.PyObjectHashTable.get_item\u001b[1;34m()\u001b[0m\n",
      "\u001b[1;31mKeyError\u001b[0m: 'Last name'",
      "\nThe above exception was the direct cause of the following exception:\n",
      "\u001b[1;31mKeyError\u001b[0m                                  Traceback (most recent call last)",
      "Input \u001b[1;32mIn [15]\u001b[0m, in \u001b[0;36m<module>\u001b[1;34m\u001b[0m\n\u001b[1;32m----> 1\u001b[0m \u001b[43mgrades\u001b[49m\u001b[43m[\u001b[49m\u001b[38;5;124;43m\"\u001b[39;49m\u001b[38;5;124;43mLast name\u001b[39;49m\u001b[38;5;124;43m\"\u001b[39;49m\u001b[43m]\u001b[49m\n",
      "File \u001b[1;32m~\\AppData\\Local\\Packages\\PythonSoftwareFoundation.Python.3.8_qbz5n2kfra8p0\\LocalCache\\local-packages\\Python38\\site-packages\\pandas\\core\\frame.py:3506\u001b[0m, in \u001b[0;36mDataFrame.__getitem__\u001b[1;34m(self, key)\u001b[0m\n\u001b[0;32m   3504\u001b[0m \u001b[38;5;28;01mif\u001b[39;00m \u001b[38;5;28mself\u001b[39m\u001b[38;5;241m.\u001b[39mcolumns\u001b[38;5;241m.\u001b[39mnlevels \u001b[38;5;241m>\u001b[39m \u001b[38;5;241m1\u001b[39m:\n\u001b[0;32m   3505\u001b[0m     \u001b[38;5;28;01mreturn\u001b[39;00m \u001b[38;5;28mself\u001b[39m\u001b[38;5;241m.\u001b[39m_getitem_multilevel(key)\n\u001b[1;32m-> 3506\u001b[0m indexer \u001b[38;5;241m=\u001b[39m \u001b[38;5;28;43mself\u001b[39;49m\u001b[38;5;241;43m.\u001b[39;49m\u001b[43mcolumns\u001b[49m\u001b[38;5;241;43m.\u001b[39;49m\u001b[43mget_loc\u001b[49m\u001b[43m(\u001b[49m\u001b[43mkey\u001b[49m\u001b[43m)\u001b[49m\n\u001b[0;32m   3507\u001b[0m \u001b[38;5;28;01mif\u001b[39;00m is_integer(indexer):\n\u001b[0;32m   3508\u001b[0m     indexer \u001b[38;5;241m=\u001b[39m [indexer]\n",
      "File \u001b[1;32m~\\AppData\\Local\\Packages\\PythonSoftwareFoundation.Python.3.8_qbz5n2kfra8p0\\LocalCache\\local-packages\\Python38\\site-packages\\pandas\\core\\indexes\\base.py:3623\u001b[0m, in \u001b[0;36mIndex.get_loc\u001b[1;34m(self, key, method, tolerance)\u001b[0m\n\u001b[0;32m   3621\u001b[0m     \u001b[38;5;28;01mreturn\u001b[39;00m \u001b[38;5;28mself\u001b[39m\u001b[38;5;241m.\u001b[39m_engine\u001b[38;5;241m.\u001b[39mget_loc(casted_key)\n\u001b[0;32m   3622\u001b[0m \u001b[38;5;28;01mexcept\u001b[39;00m \u001b[38;5;167;01mKeyError\u001b[39;00m \u001b[38;5;28;01mas\u001b[39;00m err:\n\u001b[1;32m-> 3623\u001b[0m     \u001b[38;5;28;01mraise\u001b[39;00m \u001b[38;5;167;01mKeyError\u001b[39;00m(key) \u001b[38;5;28;01mfrom\u001b[39;00m \u001b[38;5;21;01merr\u001b[39;00m\n\u001b[0;32m   3624\u001b[0m \u001b[38;5;28;01mexcept\u001b[39;00m \u001b[38;5;167;01mTypeError\u001b[39;00m:\n\u001b[0;32m   3625\u001b[0m     \u001b[38;5;66;03m# If we have a listlike key, _check_indexing_error will raise\u001b[39;00m\n\u001b[0;32m   3626\u001b[0m     \u001b[38;5;66;03m#  InvalidIndexError. Otherwise we fall through and re-raise\u001b[39;00m\n\u001b[0;32m   3627\u001b[0m     \u001b[38;5;66;03m#  the TypeError.\u001b[39;00m\n\u001b[0;32m   3628\u001b[0m     \u001b[38;5;28mself\u001b[39m\u001b[38;5;241m.\u001b[39m_check_indexing_error(key)\n",
      "\u001b[1;31mKeyError\u001b[0m: 'Last name'"
     ]
    }
   ],
   "source": [
    "grades[\"Last name\"]"
   ]
  },
  {
   "cell_type": "code",
   "execution_count": null,
   "id": "f8a9f76d",
   "metadata": {},
   "outputs": [],
   "source": [
    "len(grades)"
   ]
  },
  {
   "cell_type": "code",
   "execution_count": null,
   "id": "5c0c9a1f",
   "metadata": {},
   "outputs": [],
   "source": [
    "grades.to_csv(\"people.csv\")"
   ]
  },
  {
   "cell_type": "markdown",
   "id": "5a9bae7e",
   "metadata": {},
   "source": [
    "## Viewing and selecting the Data"
   ]
  },
  {
   "cell_type": "code",
   "execution_count": null,
   "id": "836fccc2",
   "metadata": {},
   "outputs": [],
   "source": [
    "grades.head(5)"
   ]
  },
  {
   "cell_type": "code",
   "execution_count": null,
   "id": "e10743b6",
   "metadata": {},
   "outputs": [],
   "source": [
    "grades.tail(5)"
   ]
  },
  {
   "cell_type": "markdown",
   "id": "8b14bbec",
   "metadata": {},
   "source": [
    "## loc and iloc\n"
   ]
  },
  {
   "cell_type": "code",
   "execution_count": null,
   "id": "66d35747",
   "metadata": {},
   "outputs": [],
   "source": [
    "animals = pd.Series([\"cat\", \"dog\", \"mouse\", \"tiger\", \"panda\", \"zebra\"], index = [0, 5, 2, 6, 5, 9])"
   ]
  },
  {
   "cell_type": "code",
   "execution_count": null,
   "id": "fa706086",
   "metadata": {},
   "outputs": [],
   "source": [
    "animals"
   ]
  },
  {
   "cell_type": "markdown",
   "id": "d5c384e5",
   "metadata": {},
   "source": [
    "# .loc gives you the answer with respect to the index of the data"
   ]
  },
  {
   "cell_type": "code",
   "execution_count": null,
   "id": "829071ca",
   "metadata": {},
   "outputs": [],
   "source": [
    "animals.loc[5]"
   ]
  },
  {
   "cell_type": "code",
   "execution_count": null,
   "id": "513be547",
   "metadata": {},
   "outputs": [],
   "source": [
    "animals.loc[9]"
   ]
  },
  {
   "cell_type": "markdown",
   "id": "f6609760",
   "metadata": {},
   "source": [
    "# .iloc gives you the answer with respect to the position of the data"
   ]
  },
  {
   "cell_type": "code",
   "execution_count": null,
   "id": "09ba50d3",
   "metadata": {},
   "outputs": [],
   "source": [
    "animals.iloc[5]"
   ]
  },
  {
   "cell_type": "code",
   "execution_count": null,
   "id": "f5e62d03",
   "metadata": {},
   "outputs": [],
   "source": [
    "animals.iloc[4]"
   ]
  },
  {
   "cell_type": "markdown",
   "id": "91c0d2e4",
   "metadata": {},
   "source": [
    "# .iloc slicing"
   ]
  },
  {
   "cell_type": "code",
   "execution_count": null,
   "id": "bf7b0ceb",
   "metadata": {},
   "outputs": [],
   "source": [
    "animals.iloc[:3]"
   ]
  },
  {
   "cell_type": "code",
   "execution_count": null,
   "id": "b924a24e",
   "metadata": {},
   "outputs": [],
   "source": [
    "grades"
   ]
  },
  {
   "cell_type": "markdown",
   "id": "a8ad1c38",
   "metadata": {},
   "source": [
    "# 2 different types to call a column"
   ]
  },
  {
   "cell_type": "code",
   "execution_count": null,
   "id": "c84dddba",
   "metadata": {},
   "outputs": [],
   "source": [
    "grades.lastname"
   ]
  },
  {
   "cell_type": "code",
   "execution_count": null,
   "id": "4b93a864",
   "metadata": {},
   "outputs": [],
   "source": [
    "grades[\"lastname\"]"
   ]
  },
  {
   "cell_type": "code",
   "execution_count": null,
   "id": "87b741ac",
   "metadata": {},
   "outputs": [],
   "source": [
    "grades[grades[\"lastname\"] == \"Dandy\"]"
   ]
  },
  {
   "cell_type": "code",
   "execution_count": null,
   "id": "65986c49",
   "metadata": {},
   "outputs": [],
   "source": [
    "df"
   ]
  },
  {
   "cell_type": "code",
   "execution_count": null,
   "id": "7df627d0",
   "metadata": {},
   "outputs": [],
   "source": [
    "df[df[\"LatD\"] == 41]"
   ]
  },
  {
   "cell_type": "code",
   "execution_count": null,
   "id": "8f7ce0eb",
   "metadata": {},
   "outputs": [],
   "source": [
    "mails = pd.read_csv(\"email.csv\")"
   ]
  },
  {
   "cell_type": "code",
   "execution_count": null,
   "id": "0f019fdc",
   "metadata": {},
   "outputs": [],
   "source": [
    "mails"
   ]
  },
  {
   "cell_type": "code",
   "execution_count": null,
   "id": "1c9c6c1b",
   "metadata": {},
   "outputs": [],
   "source": [
    "mails[\"email\"]"
   ]
  },
  {
   "cell_type": "code",
   "execution_count": null,
   "id": "73a65a4d",
   "metadata": {},
   "outputs": [],
   "source": [
    "business = pd.read_csv(\"color_srgb.csv\")"
   ]
  },
  {
   "cell_type": "code",
   "execution_count": null,
   "id": "27cdec7c",
   "metadata": {},
   "outputs": [],
   "source": [
    "business"
   ]
  },
  {
   "cell_type": "code",
   "execution_count": null,
   "id": "380cd9f1",
   "metadata": {},
   "outputs": [],
   "source": [
    "color = pd.read_csv(\"color_web_safe.csv\")"
   ]
  },
  {
   "cell_type": "code",
   "execution_count": null,
   "id": "8f035a73",
   "metadata": {},
   "outputs": [],
   "source": [
    "color"
   ]
  },
  {
   "cell_type": "code",
   "execution_count": null,
   "id": "33214c16",
   "metadata": {},
   "outputs": [],
   "source": [
    "colors = pd.read_csv(\"color_x11.csv\")"
   ]
  },
  {
   "cell_type": "code",
   "execution_count": null,
   "id": "b5390d57",
   "metadata": {},
   "outputs": [],
   "source": [
    "color"
   ]
  },
  {
   "cell_type": "code",
   "execution_count": null,
   "id": "3ca936ce",
   "metadata": {},
   "outputs": [],
   "source": [
    "colors"
   ]
  },
  {
   "cell_type": "markdown",
   "id": "4230bebc",
   "metadata": {},
   "source": [
    "# Crosstab - comparing one column to another "
   ]
  },
  {
   "cell_type": "code",
   "execution_count": null,
   "id": "9b64d4bd",
   "metadata": {},
   "outputs": [],
   "source": [
    "pd.crosstab(colors[\"HEX\"], colors[\"RGB\"])"
   ]
  },
  {
   "cell_type": "markdown",
   "id": "e6ffdb6b",
   "metadata": {},
   "source": [
    "# Groupby - it is used to compare more columns with an operation on it too for example:\n",
    "# car_sales.groupby([\"Company_make\"]).mean() This function will give you the mean of every int or float value with respect to Company_make"
   ]
  },
  {
   "cell_type": "code",
   "execution_count": null,
   "id": "14ab878b",
   "metadata": {},
   "outputs": [],
   "source": [
    "colors.groupby([\"HEX\"])"
   ]
  },
  {
   "cell_type": "code",
   "execution_count": null,
   "id": "91cc4907",
   "metadata": {},
   "outputs": [],
   "source": [
    "color.info()"
   ]
  },
  {
   "cell_type": "code",
   "execution_count": null,
   "id": "721792e4",
   "metadata": {},
   "outputs": [],
   "source": [
    "business.info()"
   ]
  },
  {
   "cell_type": "code",
   "execution_count": null,
   "id": "76b06d1b",
   "metadata": {},
   "outputs": [],
   "source": [
    "df"
   ]
  },
  {
   "cell_type": "markdown",
   "id": "ece7f117",
   "metadata": {},
   "source": [
    "# Visualizing the Data with pandas using matplotlib indirectly"
   ]
  },
  {
   "cell_type": "code",
   "execution_count": null,
   "id": "0ef4ae38",
   "metadata": {},
   "outputs": [],
   "source": [
    "df[\"LatD\"].plot()"
   ]
  },
  {
   "cell_type": "code",
   "execution_count": null,
   "id": "acbec144",
   "metadata": {},
   "outputs": [],
   "source": [
    "df[\"LatD\"].hist()"
   ]
  },
  {
   "cell_type": "code",
   "execution_count": null,
   "id": "ec219107",
   "metadata": {},
   "outputs": [],
   "source": [
    "grades"
   ]
  },
  {
   "cell_type": "markdown",
   "id": "b551f02c",
   "metadata": {},
   "source": [
    "# convert the Price string type data into integer type data"
   ]
  },
  {
   "cell_type": "code",
   "execution_count": null,
   "id": "8c38cac4",
   "metadata": {},
   "outputs": [],
   "source": [
    "grades['firstname'] = grades['firstname'].str..replace(['\\$\\,/.'], '').astype(int)"
   ]
  },
  {
   "cell_type": "markdown",
   "id": "797242af",
   "metadata": {},
   "source": [
    "# Maniplutating Data"
   ]
  },
  {
   "cell_type": "code",
   "execution_count": null,
   "id": "c7c71e53",
   "metadata": {},
   "outputs": [],
   "source": [
    "grades"
   ]
  },
  {
   "cell_type": "code",
   "execution_count": null,
   "id": "4050c9da",
   "metadata": {},
   "outputs": [],
   "source": [
    "grades[\"lastname\"].str.lower()"
   ]
  },
  {
   "cell_type": "code",
   "execution_count": null,
   "id": "119091b8",
   "metadata": {},
   "outputs": [],
   "source": [
    "grades.lastname.str.upper()"
   ]
  },
  {
   "cell_type": "code",
   "execution_count": null,
   "id": "9ad30eec",
   "metadata": {},
   "outputs": [],
   "source": [
    "grades.lastname.str.capitalize() # or another way is grades[\"lastname\"].str.capitalize()"
   ]
  },
  {
   "cell_type": "code",
   "execution_count": null,
   "id": "451ad81f",
   "metadata": {},
   "outputs": [],
   "source": [
    "grades[\"lastname\"] = grades.lastname.str.lower()"
   ]
  },
  {
   "cell_type": "code",
   "execution_count": null,
   "id": "63e14d76",
   "metadata": {},
   "outputs": [],
   "source": [
    "grades[\"lastname\"]"
   ]
  },
  {
   "cell_type": "code",
   "execution_count": null,
   "id": "a7765daf",
   "metadata": {},
   "outputs": [],
   "source": [
    "grades"
   ]
  },
  {
   "cell_type": "code",
   "execution_count": null,
   "id": "a9c2e8d2",
   "metadata": {},
   "outputs": [],
   "source": [
    "grades.drop(7, axis = 0, inplace=True)"
   ]
  },
  {
   "cell_type": "markdown",
   "id": "d07eb2aa",
   "metadata": {},
   "source": [
    "# For (Column axis = 1) and for (Row axis = 0)"
   ]
  },
  {
   "cell_type": "code",
   "execution_count": null,
   "id": "83c032cf",
   "metadata": {},
   "outputs": [],
   "source": [
    "grades.lastname.drop(11, axis=0 )"
   ]
  },
  {
   "cell_type": "code",
   "execution_count": null,
   "id": "05f31634",
   "metadata": {},
   "outputs": [],
   "source": [
    "grades"
   ]
  },
  {
   "cell_type": "markdown",
   "id": "00b97109",
   "metadata": {},
   "source": [
    "# Sample is used to take a sample of the Data"
   ]
  },
  {
   "cell_type": "markdown",
   "id": "4aff2160",
   "metadata": {},
   "source": [
    "\n",
    "# frac is used to take the fraction of the data 0.5 is 50% and 1 is 100% "
   ]
  },
  {
   "cell_type": "code",
   "execution_count": null,
   "id": "7a2421c3",
   "metadata": {},
   "outputs": [],
   "source": [
    "grades_shuffle = grades.sample(frac=1) "
   ]
  },
  {
   "cell_type": "code",
   "execution_count": null,
   "id": "1b9db5ec",
   "metadata": {},
   "outputs": [],
   "source": [
    "grades_shuffle"
   ]
  }
 ],
 "metadata": {
  "kernelspec": {
   "display_name": "Python 3 (ipykernel)",
   "language": "python",
   "name": "python3"
  },
  "language_info": {
   "codemirror_mode": {
    "name": "ipython",
    "version": 3
   },
   "file_extension": ".py",
   "mimetype": "text/x-python",
   "name": "python",
   "nbconvert_exporter": "python",
   "pygments_lexer": "ipython3",
   "version": "3.8.10"
  }
 },
 "nbformat": 4,
 "nbformat_minor": 5
}
