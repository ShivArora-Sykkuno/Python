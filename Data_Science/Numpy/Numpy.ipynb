{
 "cells": [
  {
   "cell_type": "markdown",
   "id": "e9d6b3f3",
   "metadata": {},
   "source": [
    "# Starting With Numpy"
   ]
  },
  {
   "cell_type": "code",
   "execution_count": 2,
   "id": "9ae4fd30",
   "metadata": {},
   "outputs": [],
   "source": [
    "import numpy as np"
   ]
  },
  {
   "cell_type": "code",
   "execution_count": 3,
   "id": "87824a60",
   "metadata": {},
   "outputs": [],
   "source": [
    "# All the array are of ndarray data type\n",
    "a1 = np.array([1,2,3])"
   ]
  },
  {
   "cell_type": "code",
   "execution_count": 4,
   "id": "4f8edc36",
   "metadata": {},
   "outputs": [
    {
     "data": {
      "text/plain": [
       "array([1, 2, 3])"
      ]
     },
     "execution_count": 4,
     "metadata": {},
     "output_type": "execute_result"
    }
   ],
   "source": [
    "a1"
   ]
  },
  {
   "cell_type": "code",
   "execution_count": 5,
   "id": "ff1e13c9",
   "metadata": {},
   "outputs": [
    {
     "data": {
      "text/plain": [
       "array([[1. , 2.3, 4. ],\n",
       "       [4. , 6. , 9.4]])"
      ]
     },
     "execution_count": 5,
     "metadata": {},
     "output_type": "execute_result"
    }
   ],
   "source": [
    "a2 = np.array([[1, 2.3, 4], \n",
    "               [4, 6, 9.4]])\n",
    "a2"
   ]
  },
  {
   "cell_type": "code",
   "execution_count": 6,
   "id": "3b9bb749",
   "metadata": {},
   "outputs": [
    {
     "data": {
      "text/plain": [
       "[[[1, 2, 3], [4, 5, 6], [7, 8, 9]], [[10, 11, 12], [13, 14, 15], [16, 17, 18]]]"
      ]
     },
     "execution_count": 6,
     "metadata": {},
     "output_type": "execute_result"
    }
   ],
   "source": [
    "a3 = ([[[1,2,3],\n",
    "       [4,5,6],\n",
    "       [7,8,9]],\n",
    "       \n",
    "       [[10,11,12],\n",
    "      [13,14,15],\n",
    "      [16, 17, 18]]])\n",
    "a3"
   ]
  },
  {
   "cell_type": "code",
   "execution_count": 7,
   "id": "a16b5f3a",
   "metadata": {},
   "outputs": [
    {
     "data": {
      "text/plain": [
       "(numpy.ndarray, numpy.ndarray, list)"
      ]
     },
     "execution_count": 7,
     "metadata": {},
     "output_type": "execute_result"
    }
   ],
   "source": [
    "type(a1), type(a2), type(a3)"
   ]
  },
  {
   "cell_type": "code",
   "execution_count": 8,
   "id": "8d35ff92",
   "metadata": {},
   "outputs": [
    {
     "data": {
      "text/plain": [
       "(3, 6, 18)"
      ]
     },
     "execution_count": 8,
     "metadata": {},
     "output_type": "execute_result"
    }
   ],
   "source": [
    "np.size(a1), np.size(a2), np.size(a3)"
   ]
  },
  {
   "cell_type": "code",
   "execution_count": 9,
   "id": "39d55bc3",
   "metadata": {},
   "outputs": [
    {
     "data": {
      "text/plain": [
       "((3,), (2, 3), (2, 3, 3))"
      ]
     },
     "execution_count": 9,
     "metadata": {},
     "output_type": "execute_result"
    }
   ],
   "source": [
    "np.shape(a1), np.shape(a2), np.shape(a3)"
   ]
  },
  {
   "cell_type": "markdown",
   "id": "dedba769",
   "metadata": {},
   "source": [
    "# Creating a data frame using Numpy"
   ]
  },
  {
   "cell_type": "code",
   "execution_count": 10,
   "id": "6cc3707a",
   "metadata": {},
   "outputs": [],
   "source": [
    "import pandas as pd"
   ]
  },
  {
   "cell_type": "code",
   "execution_count": 11,
   "id": "203971d9",
   "metadata": {},
   "outputs": [
    {
     "data": {
      "text/html": [
       "<div>\n",
       "<style scoped>\n",
       "    .dataframe tbody tr th:only-of-type {\n",
       "        vertical-align: middle;\n",
       "    }\n",
       "\n",
       "    .dataframe tbody tr th {\n",
       "        vertical-align: top;\n",
       "    }\n",
       "\n",
       "    .dataframe thead th {\n",
       "        text-align: right;\n",
       "    }\n",
       "</style>\n",
       "<table border=\"1\" class=\"dataframe\">\n",
       "  <thead>\n",
       "    <tr style=\"text-align: right;\">\n",
       "      <th></th>\n",
       "      <th>0</th>\n",
       "      <th>1</th>\n",
       "      <th>2</th>\n",
       "    </tr>\n",
       "  </thead>\n",
       "  <tbody>\n",
       "    <tr>\n",
       "      <th>0</th>\n",
       "      <td>1.0</td>\n",
       "      <td>2.3</td>\n",
       "      <td>4.0</td>\n",
       "    </tr>\n",
       "    <tr>\n",
       "      <th>1</th>\n",
       "      <td>4.0</td>\n",
       "      <td>6.0</td>\n",
       "      <td>9.4</td>\n",
       "    </tr>\n",
       "  </tbody>\n",
       "</table>\n",
       "</div>"
      ],
      "text/plain": [
       "     0    1    2\n",
       "0  1.0  2.3  4.0\n",
       "1  4.0  6.0  9.4"
      ]
     },
     "execution_count": 11,
     "metadata": {},
     "output_type": "execute_result"
    }
   ],
   "source": [
    "df = pd.DataFrame(a2)\n",
    "df"
   ]
  },
  {
   "cell_type": "code",
   "execution_count": 12,
   "id": "c9a06415",
   "metadata": {},
   "outputs": [
    {
     "data": {
      "text/html": [
       "<div>\n",
       "<style scoped>\n",
       "    .dataframe tbody tr th:only-of-type {\n",
       "        vertical-align: middle;\n",
       "    }\n",
       "\n",
       "    .dataframe tbody tr th {\n",
       "        vertical-align: top;\n",
       "    }\n",
       "\n",
       "    .dataframe thead th {\n",
       "        text-align: right;\n",
       "    }\n",
       "</style>\n",
       "<table border=\"1\" class=\"dataframe\">\n",
       "  <thead>\n",
       "    <tr style=\"text-align: right;\">\n",
       "      <th></th>\n",
       "      <th>0</th>\n",
       "      <th>1</th>\n",
       "      <th>2</th>\n",
       "    </tr>\n",
       "  </thead>\n",
       "  <tbody>\n",
       "    <tr>\n",
       "      <th>0</th>\n",
       "      <td>[1, 2, 3]</td>\n",
       "      <td>[4, 5, 6]</td>\n",
       "      <td>[7, 8, 9]</td>\n",
       "    </tr>\n",
       "    <tr>\n",
       "      <th>1</th>\n",
       "      <td>[10, 11, 12]</td>\n",
       "      <td>[13, 14, 15]</td>\n",
       "      <td>[16, 17, 18]</td>\n",
       "    </tr>\n",
       "  </tbody>\n",
       "</table>\n",
       "</div>"
      ],
      "text/plain": [
       "              0             1             2\n",
       "0     [1, 2, 3]     [4, 5, 6]     [7, 8, 9]\n",
       "1  [10, 11, 12]  [13, 14, 15]  [16, 17, 18]"
      ]
     },
     "execution_count": 12,
     "metadata": {},
     "output_type": "execute_result"
    }
   ],
   "source": [
    "dff = pd.DataFrame(a3)\n",
    "dff"
   ]
  },
  {
   "cell_type": "markdown",
   "id": "75f81607",
   "metadata": {},
   "source": [
    "# Creating numpy Array's"
   ]
  },
  {
   "cell_type": "code",
   "execution_count": 13,
   "id": "57166b7b",
   "metadata": {},
   "outputs": [
    {
     "data": {
      "text/plain": [
       "array([[1., 1., 1., 1.],\n",
       "       [1., 1., 1., 1.]])"
      ]
     },
     "execution_count": 13,
     "metadata": {},
     "output_type": "execute_result"
    }
   ],
   "source": [
    "ones = np.ones((2, 4))\n",
    "ones"
   ]
  },
  {
   "cell_type": "code",
   "execution_count": 14,
   "id": "815128ec",
   "metadata": {},
   "outputs": [
    {
     "data": {
      "text/plain": [
       "array([['1', '1', '1', '1'],\n",
       "       ['1', '1', '1', '1']], dtype='<U1')"
      ]
     },
     "execution_count": 14,
     "metadata": {},
     "output_type": "execute_result"
    }
   ],
   "source": [
    "string_ones = np.ones((2,4), dtype=str)\n",
    "string_ones"
   ]
  },
  {
   "cell_type": "code",
   "execution_count": 15,
   "id": "815ac691",
   "metadata": {},
   "outputs": [
    {
     "data": {
      "text/plain": [
       "array([[0., 0., 0.],\n",
       "       [0., 0., 0.]])"
      ]
     },
     "execution_count": 15,
     "metadata": {},
     "output_type": "execute_result"
    }
   ],
   "source": [
    "zero = np.zeros((2,3))\n",
    "zero"
   ]
  },
  {
   "cell_type": "code",
   "execution_count": 16,
   "id": "a538bf14",
   "metadata": {},
   "outputs": [
    {
     "data": {
      "text/plain": [
       "array([ 1,  2,  3,  4,  5,  6,  7,  8,  9, 10])"
      ]
     },
     "execution_count": 16,
     "metadata": {},
     "output_type": "execute_result"
    }
   ],
   "source": [
    "range_array = np.arange(1, 11)\n",
    "range_array\n"
   ]
  },
  {
   "cell_type": "code",
   "execution_count": 17,
   "id": "7d979935",
   "metadata": {},
   "outputs": [
    {
     "data": {
      "text/plain": [
       "array([[1, 2, 5],\n",
       "       [3, 1, 7]])"
      ]
     },
     "execution_count": 17,
     "metadata": {},
     "output_type": "execute_result"
    }
   ],
   "source": [
    "random_array = np.random.randint(1, 10, size=(2,3), dtype= int)\n",
    "random_array"
   ]
  },
  {
   "cell_type": "markdown",
   "id": "bda42742",
   "metadata": {},
   "source": [
    "# Random Module give us Psudo random numbers\n",
    "# As we can prove this by using .seed() fuction"
   ]
  },
  {
   "cell_type": "code",
   "execution_count": 18,
   "id": "8733c07a",
   "metadata": {},
   "outputs": [
    {
     "data": {
      "text/plain": [
       "array([[0.07630829, 0.77991879, 0.43840923, 0.72346518],\n",
       "       [0.97798951, 0.53849587, 0.50112046, 0.07205113],\n",
       "       [0.26843898, 0.4998825 , 0.67923   , 0.80373904],\n",
       "       [0.38094113, 0.06593635, 0.2881456 , 0.90959353],\n",
       "       [0.21338535, 0.45212396, 0.93120602, 0.02489923]])"
      ]
     },
     "execution_count": 18,
     "metadata": {},
     "output_type": "execute_result"
    }
   ],
   "source": [
    "# If we Run this we can see that every time these same numbers comes in the output\n",
    "# We can provide any number in the seed function it will change for the first time and will remmain the same for that same number \n",
    "np.random.seed(7)\n",
    "random_array2 = np.random.random((5, 4))\n",
    "random_array2"
   ]
  },
  {
   "cell_type": "code",
   "execution_count": 19,
   "id": "a414417c",
   "metadata": {},
   "outputs": [
    {
     "data": {
      "text/plain": [
       "array([[0.54340494, 0.27836939, 0.42451759, 0.84477613, 0.00471886],\n",
       "       [0.12156912, 0.67074908, 0.82585276, 0.13670659, 0.57509333],\n",
       "       [0.89132195, 0.20920212, 0.18532822, 0.10837689, 0.21969749],\n",
       "       [0.97862378, 0.81168315, 0.17194101, 0.81622475, 0.27407375],\n",
       "       [0.43170418, 0.94002982, 0.81764938, 0.33611195, 0.17541045]])"
      ]
     },
     "execution_count": 19,
     "metadata": {},
     "output_type": "execute_result"
    }
   ],
   "source": [
    "np.random.seed(100)\n",
    "random_array3 = np.random.rand(5,5)\n",
    "random_array3"
   ]
  },
  {
   "cell_type": "markdown",
   "id": "4089f688",
   "metadata": {},
   "source": [
    "# Different Ways to view the Numpy Array's`"
   ]
  },
  {
   "cell_type": "code",
   "execution_count": 20,
   "id": "955b4287",
   "metadata": {},
   "outputs": [
    {
     "data": {
      "text/plain": [
       "0.5434049417909654"
      ]
     },
     "execution_count": 20,
     "metadata": {},
     "output_type": "execute_result"
    }
   ],
   "source": [
    "random_array3[0][0]"
   ]
  },
  {
   "cell_type": "code",
   "execution_count": 21,
   "id": "7fc362b4",
   "metadata": {},
   "outputs": [
    {
     "data": {
      "text/plain": [
       "1"
      ]
     },
     "execution_count": 21,
     "metadata": {},
     "output_type": "execute_result"
    }
   ],
   "source": [
    "random_array[0][0]"
   ]
  },
  {
   "cell_type": "code",
   "execution_count": 22,
   "id": "f013c31d",
   "metadata": {},
   "outputs": [
    {
     "data": {
      "text/plain": [
       "array([[27, 17, 69, 43],\n",
       "       [56, 77, 80, 90],\n",
       "       [15, 92, 58, 90],\n",
       "       [12,  7, 43, 57],\n",
       "       [ 2,  8, 52, 28]])"
      ]
     },
     "execution_count": 22,
     "metadata": {},
     "output_type": "execute_result"
    }
   ],
   "source": [
    "np.random.seed(200)\n",
    "random_array4 = np.random.randint(1, 100, size=(5,4))\n",
    "random_array4"
   ]
  },
  {
   "cell_type": "code",
   "execution_count": 23,
   "id": "caedfe0b",
   "metadata": {},
   "outputs": [
    {
     "data": {
      "text/plain": [
       "array([ 2,  7,  8, 12, 15, 17, 27, 28, 43, 52, 56, 57, 58, 69, 77, 80, 90,\n",
       "       92])"
      ]
     },
     "execution_count": 23,
     "metadata": {},
     "output_type": "execute_result"
    }
   ],
   "source": [
    "np.unique(random_array4)"
   ]
  },
  {
   "cell_type": "code",
   "execution_count": 24,
   "id": "73ef318f",
   "metadata": {},
   "outputs": [
    {
     "data": {
      "text/plain": [
       "array([1, 2, 3])"
      ]
     },
     "execution_count": 24,
     "metadata": {},
     "output_type": "execute_result"
    }
   ],
   "source": [
    "a1"
   ]
  },
  {
   "cell_type": "code",
   "execution_count": 25,
   "id": "8418cdda",
   "metadata": {},
   "outputs": [
    {
     "data": {
      "text/plain": [
       "array([[1. , 2.3, 4. ],\n",
       "       [4. , 6. , 9.4]])"
      ]
     },
     "execution_count": 25,
     "metadata": {},
     "output_type": "execute_result"
    }
   ],
   "source": [
    "a2"
   ]
  },
  {
   "cell_type": "code",
   "execution_count": 26,
   "id": "a379f282",
   "metadata": {},
   "outputs": [
    {
     "data": {
      "text/plain": [
       "[[[1, 2, 3], [4, 5, 6], [7, 8, 9]], [[10, 11, 12], [13, 14, 15], [16, 17, 18]]]"
      ]
     },
     "execution_count": 26,
     "metadata": {},
     "output_type": "execute_result"
    }
   ],
   "source": [
    "a3"
   ]
  },
  {
   "cell_type": "code",
   "execution_count": 27,
   "id": "69ce62bb",
   "metadata": {},
   "outputs": [
    {
     "data": {
      "text/plain": [
       "1"
      ]
     },
     "execution_count": 27,
     "metadata": {},
     "output_type": "execute_result"
    }
   ],
   "source": [
    "a1[0]"
   ]
  },
  {
   "cell_type": "code",
   "execution_count": 28,
   "id": "877b1342",
   "metadata": {},
   "outputs": [
    {
     "data": {
      "text/plain": [
       "4.0"
      ]
     },
     "execution_count": 28,
     "metadata": {},
     "output_type": "execute_result"
    }
   ],
   "source": [
    "a2[0][2]"
   ]
  },
  {
   "cell_type": "code",
   "execution_count": 29,
   "id": "b8e3711a",
   "metadata": {},
   "outputs": [
    {
     "data": {
      "text/plain": [
       "9"
      ]
     },
     "execution_count": 29,
     "metadata": {},
     "output_type": "execute_result"
    }
   ],
   "source": [
    "a3[0][2][2]"
   ]
  },
  {
   "cell_type": "code",
   "execution_count": 30,
   "id": "a5792410",
   "metadata": {},
   "outputs": [
    {
     "ename": "TypeError",
     "evalue": "list indices must be integers or slices, not tuple",
     "output_type": "error",
     "traceback": [
      "\u001b[1;31m---------------------------------------------------------------------------\u001b[0m",
      "\u001b[1;31mTypeError\u001b[0m                                 Traceback (most recent call last)",
      "Input \u001b[1;32mIn [30]\u001b[0m, in \u001b[0;36m<module>\u001b[1;34m\u001b[0m\n\u001b[1;32m----> 1\u001b[0m \u001b[43ma3\u001b[49m\u001b[43m[\u001b[49m\u001b[43m:\u001b[49m\u001b[38;5;241;43m1\u001b[39;49m\u001b[43m,\u001b[49m\u001b[43m \u001b[49m\u001b[43m:\u001b[49m\u001b[38;5;241;43m1\u001b[39;49m\u001b[43m,\u001b[49m\u001b[43m \u001b[49m\u001b[43m:\u001b[49m\u001b[38;5;241;43m1\u001b[39;49m\u001b[43m]\u001b[49m\n",
      "\u001b[1;31mTypeError\u001b[0m: list indices must be integers or slices, not tuple"
     ]
    }
   ],
   "source": [
    "a3[:1, :1, :1]"
   ]
  },
  {
   "cell_type": "markdown",
   "id": "00bcdc4e",
   "metadata": {},
   "source": [
    "# While Dealing with high dimession matrices we have to keep in mind that the last number we have given for the shape is the inner-most size of the array in the matrix\n"
   ]
  },
  {
   "cell_type": "code",
   "execution_count": 60,
   "id": "e8c77a06",
   "metadata": {},
   "outputs": [
    {
     "data": {
      "text/plain": [
       "array([[[[ 5,  5,  7,  3,  2],\n",
       "         [10, 12,  3,  2,  1],\n",
       "         [ 1,  9, 10,  9,  3],\n",
       "         [12,  6,  1,  7,  7]],\n",
       "\n",
       "        [[ 6,  9,  9,  9,  8],\n",
       "         [ 9,  6,  8,  8,  6],\n",
       "         [ 3,  3, 12,  1,  4],\n",
       "         [ 7,  6,  2,  1,  2]],\n",
       "\n",
       "        [[ 1, 11, 12,  9, 10],\n",
       "         [ 3, 10, 10,  7,  3],\n",
       "         [ 8,  1, 11,  3,  6],\n",
       "         [11,  7, 12,  4,  4]]],\n",
       "\n",
       "\n",
       "       [[[ 9,  6,  7, 10, 10],\n",
       "         [ 3,  8,  7,  9, 10],\n",
       "         [ 1,  5,  8,  7,  8],\n",
       "         [ 5, 11,  5,  3, 11]],\n",
       "\n",
       "        [[ 4, 11,  3,  5,  5],\n",
       "         [ 2,  8,  5,  4,  3],\n",
       "         [ 5,  9,  5, 10,  4],\n",
       "         [ 1, 11,  2, 11,  6]],\n",
       "\n",
       "        [[ 1,  4,  7,  5, 12],\n",
       "         [ 9,  4, 10,  7,  7],\n",
       "         [ 7,  6,  9,  7, 10],\n",
       "         [ 4,  3,  4,  3,  7]]]])"
      ]
     },
     "execution_count": 60,
     "metadata": {},
     "output_type": "execute_result"
    }
   ],
   "source": [
    "# For example\n",
    "random_array5 = np.random.randint(1, 13, (2, 3, 4, 5))\n",
    "random_array5\n",
    "#    We can see that: \n",
    "#        5 is the number of columns\n",
    "#        4 is the number of rows\n",
    "#        3 is the 2nd bracket ones they are three in each superset bracket   [[ ]]\n",
    "#        2 is the no of super set brackets   [[[ ]]]\n",
    "#    and they all are in the big universal bracket    [ ]\n"
   ]
  },
  {
   "cell_type": "code",
   "execution_count": 57,
   "id": "b4a81a96",
   "metadata": {},
   "outputs": [
    {
     "data": {
      "text/plain": [
       "array([10,  2,  8,  6,  9])"
      ]
     },
     "execution_count": 57,
     "metadata": {},
     "output_type": "execute_result"
    }
   ],
   "source": [
    "# To get the First row of the fist inner most array\n",
    "random_array5[0][0][0][:]"
   ]
  },
  {
   "cell_type": "code",
   "execution_count": 58,
   "id": "0eb13760",
   "metadata": {},
   "outputs": [
    {
     "data": {
      "text/plain": [
       "array([[[[10],\n",
       "         [ 8],\n",
       "         [11],\n",
       "         [ 1]],\n",
       "\n",
       "        [[ 3],\n",
       "         [ 9],\n",
       "         [ 1],\n",
       "         [11]],\n",
       "\n",
       "        [[ 1],\n",
       "         [ 5],\n",
       "         [ 7],\n",
       "         [ 8]]],\n",
       "\n",
       "\n",
       "       [[[ 2],\n",
       "         [ 3],\n",
       "         [11],\n",
       "         [ 4]],\n",
       "\n",
       "        [[ 5],\n",
       "         [ 8],\n",
       "         [ 2],\n",
       "         [ 3]],\n",
       "\n",
       "        [[ 8],\n",
       "         [12],\n",
       "         [ 7],\n",
       "         [12]]]])"
      ]
     },
     "execution_count": 58,
     "metadata": {},
     "output_type": "execute_result"
    }
   ],
   "source": [
    "# To get the first element of all the inner-most array \n",
    "random_array5[:, : , :, :1]"
   ]
  },
  {
   "cell_type": "markdown",
   "id": "422b4560",
   "metadata": {},
   "source": [
    "# Manipulating & Comparing Array's"
   ]
  },
  {
   "cell_type": "markdown",
   "id": "aab66465",
   "metadata": {},
   "source": [
    "### Arthemitic "
   ]
  },
  {
   "cell_type": "code",
   "execution_count": null,
   "id": "d2b4c488",
   "metadata": {},
   "outputs": [],
   "source": [
    "a1\n"
   ]
  },
  {
   "cell_type": "code",
   "execution_count": null,
   "id": "77523ffd",
   "metadata": {},
   "outputs": [],
   "source": [
    "ones = np.ones(3)\n",
    "ones"
   ]
  },
  {
   "cell_type": "code",
   "execution_count": null,
   "id": "c0dc550c",
   "metadata": {},
   "outputs": [],
   "source": [
    "a1 + ones"
   ]
  },
  {
   "cell_type": "code",
   "execution_count": null,
   "id": "2393437a",
   "metadata": {},
   "outputs": [],
   "source": [
    "a1 - ones"
   ]
  },
  {
   "cell_type": "code",
   "execution_count": null,
   "id": "f064b699",
   "metadata": {},
   "outputs": [],
   "source": [
    "a1 * ones"
   ]
  },
  {
   "cell_type": "code",
   "execution_count": null,
   "id": "aa0af9b3",
   "metadata": {},
   "outputs": [],
   "source": [
    "a2"
   ]
  },
  {
   "cell_type": "code",
   "execution_count": null,
   "id": "d59a504c",
   "metadata": {},
   "outputs": [],
   "source": [
    "a1 * a2"
   ]
  },
  {
   "cell_type": "code",
   "execution_count": null,
   "id": "7de27520",
   "metadata": {},
   "outputs": [],
   "source": [
    "a1 / a2"
   ]
  },
  {
   "cell_type": "code",
   "execution_count": 31,
   "id": "55efe470",
   "metadata": {},
   "outputs": [
    {
     "data": {
      "text/plain": [
       "array([1, 2, 3])"
      ]
     },
     "execution_count": 31,
     "metadata": {},
     "output_type": "execute_result"
    }
   ],
   "source": [
    "a1"
   ]
  },
  {
   "cell_type": "code",
   "execution_count": 32,
   "id": "5a55f90c",
   "metadata": {},
   "outputs": [
    {
     "data": {
      "text/plain": [
       "array([[1. , 2.3, 4. ],\n",
       "       [4. , 6. , 9.4]])"
      ]
     },
     "execution_count": 32,
     "metadata": {},
     "output_type": "execute_result"
    }
   ],
   "source": [
    "a2"
   ]
  },
  {
   "cell_type": "code",
   "execution_count": 34,
   "id": "9c328bfe",
   "metadata": {},
   "outputs": [
    {
     "data": {
      "text/plain": [
       "[[[1, 2, 3], [4, 5, 6], [7, 8, 9]], [[10, 11, 12], [13, 14, 15], [16, 17, 18]]]"
      ]
     },
     "execution_count": 34,
     "metadata": {},
     "output_type": "execute_result"
    }
   ],
   "source": [
    "a3"
   ]
  },
  {
   "cell_type": "code",
   "execution_count": 35,
   "id": "9d044e41",
   "metadata": {},
   "outputs": [
    {
     "data": {
      "text/plain": [
       "9.4"
      ]
     },
     "execution_count": 35,
     "metadata": {},
     "output_type": "execute_result"
    }
   ],
   "source": [
    "a2.max()"
   ]
  },
  {
   "cell_type": "code",
   "execution_count": 36,
   "id": "c89576a9",
   "metadata": {},
   "outputs": [
    {
     "data": {
      "text/plain": [
       "4.45"
      ]
     },
     "execution_count": 36,
     "metadata": {},
     "output_type": "execute_result"
    }
   ],
   "source": [
    "a2.mean()"
   ]
  },
  {
   "cell_type": "code",
   "execution_count": 37,
   "id": "d18c84a0",
   "metadata": {},
   "outputs": [
    {
     "data": {
      "text/plain": [
       "7.305833333333335"
      ]
     },
     "execution_count": 37,
     "metadata": {},
     "output_type": "execute_result"
    }
   ],
   "source": [
    "a2.var()"
   ]
  },
  {
   "cell_type": "code",
   "execution_count": 38,
   "id": "d7aafafc",
   "metadata": {},
   "outputs": [
    {
     "data": {
      "text/plain": [
       "2.7029305084173614"
      ]
     },
     "execution_count": 38,
     "metadata": {},
     "output_type": "execute_result"
    }
   ],
   "source": [
    "a2.std()"
   ]
  },
  {
   "cell_type": "code",
   "execution_count": 47,
   "id": "e239ab5c",
   "metadata": {},
   "outputs": [
    {
     "data": {
      "text/plain": [
       "2.7029305084173614"
      ]
     },
     "execution_count": 47,
     "metadata": {},
     "output_type": "execute_result"
    }
   ],
   "source": [
    "import math\n",
    "\n",
    "math.sqrt(a2.var())"
   ]
  },
  {
   "cell_type": "markdown",
   "id": "0a9dfe5d",
   "metadata": {},
   "source": [
    "# Reshaping and transpose"
   ]
  },
  {
   "cell_type": "code",
   "execution_count": 45,
   "id": "21da34d4",
   "metadata": {},
   "outputs": [],
   "source": [
    "a2_tran = a2.transpose()"
   ]
  },
  {
   "cell_type": "code",
   "execution_count": 46,
   "id": "e4ee1a64",
   "metadata": {},
   "outputs": [
    {
     "data": {
      "text/plain": [
       "array([[1. , 4. ],\n",
       "       [2.3, 6. ],\n",
       "       [4. , 9.4]])"
      ]
     },
     "execution_count": 46,
     "metadata": {},
     "output_type": "execute_result"
    }
   ],
   "source": [
    "a2_tran"
   ]
  },
  {
   "cell_type": "code",
   "execution_count": 48,
   "id": "35aa6533",
   "metadata": {},
   "outputs": [
    {
     "data": {
      "text/plain": [
       "array([[1. , 4. , 2.3],\n",
       "       [6. , 4. , 9.4]])"
      ]
     },
     "execution_count": 48,
     "metadata": {},
     "output_type": "execute_result"
    }
   ],
   "source": [
    "a2_tran.reshape((2,3))"
   ]
  },
  {
   "cell_type": "code",
   "execution_count": 51,
   "id": "d46a01ed",
   "metadata": {},
   "outputs": [
    {
     "data": {
      "text/plain": [
       "list"
      ]
     },
     "execution_count": 51,
     "metadata": {},
     "output_type": "execute_result"
    }
   ],
   "source": [
    "type(a3)"
   ]
  },
  {
   "cell_type": "code",
   "execution_count": 52,
   "id": "f26fc389",
   "metadata": {},
   "outputs": [],
   "source": [
    "a3 = np.array(a3)"
   ]
  },
  {
   "cell_type": "code",
   "execution_count": 53,
   "id": "902b19bf",
   "metadata": {},
   "outputs": [
    {
     "data": {
      "text/plain": [
       "array([[[ 1,  2,  3],\n",
       "        [ 4,  5,  6],\n",
       "        [ 7,  8,  9]],\n",
       "\n",
       "       [[10, 11, 12],\n",
       "        [13, 14, 15],\n",
       "        [16, 17, 18]]])"
      ]
     },
     "execution_count": 53,
     "metadata": {},
     "output_type": "execute_result"
    }
   ],
   "source": [
    "a3"
   ]
  },
  {
   "cell_type": "code",
   "execution_count": 61,
   "id": "5df659ab",
   "metadata": {},
   "outputs": [],
   "source": [
    "a4 = random_array5"
   ]
  },
  {
   "cell_type": "code",
   "execution_count": 62,
   "id": "19f4b020",
   "metadata": {},
   "outputs": [
    {
     "data": {
      "text/plain": [
       "(2, 3, 4, 5)"
      ]
     },
     "execution_count": 62,
     "metadata": {},
     "output_type": "execute_result"
    }
   ],
   "source": [
    "a4.shape"
   ]
  },
  {
   "cell_type": "code",
   "execution_count": 63,
   "id": "3ba81cb9",
   "metadata": {},
   "outputs": [
    {
     "data": {
      "text/plain": [
       "(2, 3, 3)"
      ]
     },
     "execution_count": 63,
     "metadata": {},
     "output_type": "execute_result"
    }
   ],
   "source": [
    "a3.shape"
   ]
  },
  {
   "cell_type": "code",
   "execution_count": 66,
   "id": "a90f8a62",
   "metadata": {},
   "outputs": [],
   "source": [
    "# resize is used to change the dimesion, length and column of some array\n",
    "a3.resize((9,2))"
   ]
  },
  {
   "cell_type": "code",
   "execution_count": 67,
   "id": "80bdbdbe",
   "metadata": {},
   "outputs": [
    {
     "data": {
      "text/plain": [
       "array([[ 1,  2],\n",
       "       [ 3,  4],\n",
       "       [ 5,  6],\n",
       "       [ 7,  8],\n",
       "       [ 9, 10],\n",
       "       [11, 12],\n",
       "       [13, 14],\n",
       "       [15, 16],\n",
       "       [17, 18]])"
      ]
     },
     "execution_count": 67,
     "metadata": {},
     "output_type": "execute_result"
    }
   ],
   "source": [
    "a3"
   ]
  },
  {
   "cell_type": "markdown",
   "id": "d5107348",
   "metadata": {},
   "source": [
    "# Dot product"
   ]
  },
  {
   "cell_type": "code",
   "execution_count": 78,
   "id": "0ecb4219",
   "metadata": {},
   "outputs": [
    {
     "name": "stdout",
     "output_type": "stream",
     "text": [
      "Matrix 1\n",
      "[[1 2 1]\n",
      " [2 2 3]\n",
      " [1 3 1]]\n",
      "\n",
      "\n",
      " Matrix 2\n",
      "[[4 4 6]\n",
      " [5 6 6]\n",
      " [4 5 5]]\n"
     ]
    }
   ],
   "source": [
    "np.random.seed(0)\n",
    "\n",
    "matrix1 = np.random.randint(1, 4, size=(3,3))\n",
    "matrix2 = np.random.randint(4, 7, size= (3,3))\n",
    "\n",
    "print(\"Matrix 1\")\n",
    "print(matrix1)\n",
    "print(\"\\n\\n Matrix 2\")\n",
    "print(matrix2)\n",
    "\n"
   ]
  },
  {
   "cell_type": "code",
   "execution_count": 82,
   "id": "10ef37fb",
   "metadata": {},
   "outputs": [
    {
     "data": {
      "text/plain": [
       "array([[18, 21, 23],\n",
       "       [30, 35, 39],\n",
       "       [23, 27, 29]])"
      ]
     },
     "execution_count": 82,
     "metadata": {},
     "output_type": "execute_result"
    }
   ],
   "source": [
    "# Dot product gives you the Matrix multilpication of 2 martices which is used in Linear Alzebra Vector products\n",
    "\n",
    "np.dot(matrix1, matrix2)"
   ]
  },
  {
   "cell_type": "code",
   "execution_count": 83,
   "id": "913dbf20",
   "metadata": {},
   "outputs": [
    {
     "data": {
      "text/plain": [
       "array([1, 2, 3])"
      ]
     },
     "execution_count": 83,
     "metadata": {},
     "output_type": "execute_result"
    }
   ],
   "source": [
    "a1"
   ]
  },
  {
   "cell_type": "code",
   "execution_count": 84,
   "id": "386fb749",
   "metadata": {},
   "outputs": [
    {
     "data": {
      "text/plain": [
       "array([[1. , 2.3, 4. ],\n",
       "       [4. , 6. , 9.4]])"
      ]
     },
     "execution_count": 84,
     "metadata": {},
     "output_type": "execute_result"
    }
   ],
   "source": [
    "a2"
   ]
  },
  {
   "cell_type": "code",
   "execution_count": 85,
   "id": "724da3a4",
   "metadata": {},
   "outputs": [
    {
     "data": {
      "text/plain": [
       "array([[ True, False, False],\n",
       "       [False, False, False]])"
      ]
     },
     "execution_count": 85,
     "metadata": {},
     "output_type": "execute_result"
    }
   ],
   "source": [
    "a1 == a2"
   ]
  },
  {
   "cell_type": "code",
   "execution_count": 86,
   "id": "a8dcc5db",
   "metadata": {},
   "outputs": [
    {
     "data": {
      "text/plain": [
       "array([[False, False, False],\n",
       "       [False, False, False]])"
      ]
     },
     "execution_count": 86,
     "metadata": {},
     "output_type": "execute_result"
    }
   ],
   "source": [
    "a1 > a2"
   ]
  },
  {
   "cell_type": "code",
   "execution_count": 87,
   "id": "69014f93",
   "metadata": {},
   "outputs": [
    {
     "data": {
      "text/plain": [
       "array([[False,  True,  True],\n",
       "       [ True,  True,  True]])"
      ]
     },
     "execution_count": 87,
     "metadata": {},
     "output_type": "execute_result"
    }
   ],
   "source": [
    "a1 < a2"
   ]
  },
  {
   "cell_type": "code",
   "execution_count": 88,
   "id": "a9c851fd",
   "metadata": {},
   "outputs": [
    {
     "data": {
      "text/plain": [
       "array([False, False, False])"
      ]
     },
     "execution_count": 88,
     "metadata": {},
     "output_type": "execute_result"
    }
   ],
   "source": [
    "a1 >= 5"
   ]
  },
  {
   "cell_type": "code",
   "execution_count": 89,
   "id": "dd125d7e",
   "metadata": {},
   "outputs": [
    {
     "data": {
      "text/plain": [
       "array([ True, False, False])"
      ]
     },
     "execution_count": 89,
     "metadata": {},
     "output_type": "execute_result"
    }
   ],
   "source": [
    "a1 <= 1 "
   ]
  },
  {
   "cell_type": "code",
   "execution_count": 90,
   "id": "6fa17209",
   "metadata": {},
   "outputs": [
    {
     "data": {
      "text/plain": [
       "array([[1. , 2.3, 4. ],\n",
       "       [4. , 6. , 9.4]])"
      ]
     },
     "execution_count": 90,
     "metadata": {},
     "output_type": "execute_result"
    }
   ],
   "source": [
    "np.sort(a2)"
   ]
  },
  {
   "cell_type": "markdown",
   "id": "ed425b8b",
   "metadata": {},
   "source": [
    "#  Creatig Images into Numpy Array"
   ]
  },
  {
   "cell_type": "markdown",
   "id": "29d976d0",
   "metadata": {},
   "source": [
    "<img src=\"rent-a-girlfriend.jpg\"/>"
   ]
  },
  {
   "cell_type": "code",
   "execution_count": 93,
   "id": "0432d24b",
   "metadata": {},
   "outputs": [],
   "source": [
    "from matplotlib.pyplot import imread"
   ]
  },
  {
   "cell_type": "code",
   "execution_count": 95,
   "id": "24fcb88a",
   "metadata": {},
   "outputs": [
    {
     "data": {
      "text/plain": [
       "array([[[139, 178, 207],\n",
       "        [135, 174, 203],\n",
       "        [133, 172, 201],\n",
       "        ...,\n",
       "        [191, 114, 124],\n",
       "        [187, 119, 130],\n",
       "        [187, 126, 134]],\n",
       "\n",
       "       [[148, 187, 216],\n",
       "        [146, 185, 214],\n",
       "        [144, 183, 212],\n",
       "        ...,\n",
       "        [189, 113, 125],\n",
       "        [180, 112, 123],\n",
       "        [182, 119, 128]],\n",
       "\n",
       "       [[156, 195, 224],\n",
       "        [156, 195, 224],\n",
       "        [155, 194, 223],\n",
       "        ...,\n",
       "        [174, 104, 115],\n",
       "        [179, 111, 124],\n",
       "        [183, 117, 129]],\n",
       "\n",
       "       ...,\n",
       "\n",
       "       [[ 60,  62,  59],\n",
       "        [ 75,  77,  74],\n",
       "        [ 60,  62,  61],\n",
       "        ...,\n",
       "        [105, 125, 132],\n",
       "        [100, 123, 131],\n",
       "        [105, 128, 136]],\n",
       "\n",
       "       [[ 69,  71,  68],\n",
       "        [ 91,  93,  90],\n",
       "        [ 96,  98,  97],\n",
       "        ...,\n",
       "        [112, 133, 138],\n",
       "        [ 77, 100, 106],\n",
       "        [ 82, 105, 113]],\n",
       "\n",
       "       [[101, 103, 100],\n",
       "        [119, 121, 118],\n",
       "        [133, 135, 134],\n",
       "        ...,\n",
       "        [113, 134, 139],\n",
       "        [108, 131, 137],\n",
       "        [113, 136, 142]]], dtype=uint8)"
      ]
     },
     "execution_count": 95,
     "metadata": {},
     "output_type": "execute_result"
    }
   ],
   "source": [
    "rent_a_girlfriend = imread(\"rent-a-girlfriend.jpg\")\n",
    "rent_a_girlfriend"
   ]
  },
  {
   "cell_type": "code",
   "execution_count": 97,
   "id": "38af9e0e",
   "metadata": {},
   "outputs": [
    {
     "data": {
      "text/plain": [
       "((1767, 2706, 3), 14344506, dtype('uint8'))"
      ]
     },
     "execution_count": 97,
     "metadata": {},
     "output_type": "execute_result"
    }
   ],
   "source": [
    "\n",
    "rent_a_girlfriend.shape, rent_a_girlfriend.size, rent_a_girlfriend.dtype"
   ]
  },
  {
   "cell_type": "markdown",
   "id": "8c64e342",
   "metadata": {},
   "source": [
    "<img src=\"demon-slayer.jpg\"/>"
   ]
  },
  {
   "cell_type": "code",
   "execution_count": 98,
   "id": "39ecc3ea",
   "metadata": {},
   "outputs": [
    {
     "data": {
      "text/plain": [
       "array([[[0.19215687, 0.05098039, 0.12156863, 1.        ],\n",
       "        [0.19215687, 0.05098039, 0.12156863, 1.        ],\n",
       "        [0.1882353 , 0.05098039, 0.12156863, 1.        ],\n",
       "        ...,\n",
       "        [0.00392157, 0.        , 0.00392157, 1.        ],\n",
       "        [0.00392157, 0.        , 0.00392157, 1.        ],\n",
       "        [0.00392157, 0.        , 0.00392157, 1.        ]],\n",
       "\n",
       "       [[0.18431373, 0.04313726, 0.11764706, 1.        ],\n",
       "        [0.18431373, 0.04313726, 0.11372549, 1.        ],\n",
       "        [0.18431373, 0.04313726, 0.11372549, 1.        ],\n",
       "        ...,\n",
       "        [0.00392157, 0.        , 0.        , 1.        ],\n",
       "        [0.00392157, 0.        , 0.        , 1.        ],\n",
       "        [0.00392157, 0.        , 0.00392157, 1.        ]],\n",
       "\n",
       "       [[0.18431373, 0.03921569, 0.11372549, 1.        ],\n",
       "        [0.18039216, 0.03921569, 0.10980392, 1.        ],\n",
       "        [0.18039216, 0.03921569, 0.10980392, 1.        ],\n",
       "        ...,\n",
       "        [0.00392157, 0.        , 0.        , 1.        ],\n",
       "        [0.00392157, 0.        , 0.        , 1.        ],\n",
       "        [0.00392157, 0.        , 0.        , 1.        ]],\n",
       "\n",
       "       ...,\n",
       "\n",
       "       [[0.00392157, 0.        , 0.00392157, 1.        ],\n",
       "        [0.00392157, 0.        , 0.00392157, 1.        ],\n",
       "        [0.00784314, 0.        , 0.00392157, 1.        ],\n",
       "        ...,\n",
       "        [0.00392157, 0.        , 0.        , 1.        ],\n",
       "        [0.00392157, 0.        , 0.        , 1.        ],\n",
       "        [0.00392157, 0.        , 0.        , 1.        ]],\n",
       "\n",
       "       [[0.00392157, 0.        , 0.00392157, 1.        ],\n",
       "        [0.00392157, 0.        , 0.00392157, 1.        ],\n",
       "        [0.00392157, 0.        , 0.00392157, 1.        ],\n",
       "        ...,\n",
       "        [0.00392157, 0.        , 0.        , 1.        ],\n",
       "        [0.00392157, 0.        , 0.        , 1.        ],\n",
       "        [0.00392157, 0.        , 0.        , 1.        ]],\n",
       "\n",
       "       [[0.00392157, 0.        , 0.00392157, 1.        ],\n",
       "        [0.00392157, 0.        , 0.00392157, 1.        ],\n",
       "        [0.00392157, 0.        , 0.00392157, 1.        ],\n",
       "        ...,\n",
       "        [0.00392157, 0.        , 0.        , 1.        ],\n",
       "        [0.00392157, 0.        , 0.        , 1.        ],\n",
       "        [0.00392157, 0.        , 0.        , 1.        ]]], dtype=float32)"
      ]
     },
     "execution_count": 98,
     "metadata": {},
     "output_type": "execute_result"
    }
   ],
   "source": [
    "demon_slayer = imread(\"demon-slayer.jpg\")\n",
    "demon_slayer"
   ]
  },
  {
   "cell_type": "markdown",
   "id": "a376effa",
   "metadata": {},
   "source": [
    "<img src=\"jujutsu-kaisen.jpg\"/>"
   ]
  },
  {
   "cell_type": "code",
   "execution_count": 99,
   "id": "3bb4304d",
   "metadata": {},
   "outputs": [
    {
     "data": {
      "text/plain": [
       "array([[[32, 42, 54],\n",
       "        [32, 42, 54],\n",
       "        [32, 42, 54],\n",
       "        ...,\n",
       "        [38, 50, 66],\n",
       "        [34, 46, 62],\n",
       "        [37, 49, 65]],\n",
       "\n",
       "       [[32, 42, 54],\n",
       "        [32, 42, 54],\n",
       "        [32, 42, 54],\n",
       "        ...,\n",
       "        [38, 50, 66],\n",
       "        [34, 46, 62],\n",
       "        [37, 49, 65]],\n",
       "\n",
       "       [[32, 42, 54],\n",
       "        [32, 42, 54],\n",
       "        [32, 42, 54],\n",
       "        ...,\n",
       "        [38, 50, 66],\n",
       "        [34, 46, 62],\n",
       "        [37, 49, 65]],\n",
       "\n",
       "       ...,\n",
       "\n",
       "       [[17, 25, 44],\n",
       "        [17, 25, 44],\n",
       "        [18, 26, 45],\n",
       "        ...,\n",
       "        [ 4,  5, 10],\n",
       "        [ 3,  2,  8],\n",
       "        [ 1,  0,  6]],\n",
       "\n",
       "       [[17, 25, 44],\n",
       "        [17, 25, 44],\n",
       "        [18, 26, 45],\n",
       "        ...,\n",
       "        [ 5,  6, 11],\n",
       "        [ 4,  3,  9],\n",
       "        [ 2,  1,  7]],\n",
       "\n",
       "       [[17, 25, 44],\n",
       "        [17, 25, 44],\n",
       "        [18, 26, 45],\n",
       "        ...,\n",
       "        [ 6,  7, 12],\n",
       "        [ 5,  4, 10],\n",
       "        [ 2,  1,  7]]], dtype=uint8)"
      ]
     },
     "execution_count": 99,
     "metadata": {},
     "output_type": "execute_result"
    }
   ],
   "source": [
    "jujutsu = imread(\"jujutsu-kaisen.jpg\")\n",
    "jujutsu"
   ]
  },
  {
   "cell_type": "code",
   "execution_count": null,
   "id": "2710d890",
   "metadata": {},
   "outputs": [],
   "source": []
  }
 ],
 "metadata": {
  "kernelspec": {
   "display_name": "Python 3 (ipykernel)",
   "language": "python",
   "name": "python3"
  },
  "language_info": {
   "codemirror_mode": {
    "name": "ipython",
    "version": 3
   },
   "file_extension": ".py",
   "mimetype": "text/x-python",
   "name": "python",
   "nbconvert_exporter": "python",
   "pygments_lexer": "ipython3",
   "version": "3.8.10"
  }
 },
 "nbformat": 4,
 "nbformat_minor": 5
}
