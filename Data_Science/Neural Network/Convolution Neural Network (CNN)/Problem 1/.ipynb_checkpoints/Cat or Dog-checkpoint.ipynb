{
 "cells": [
  {
   "cell_type": "code",
   "execution_count": 2,
   "id": "3dff94ce",
   "metadata": {},
   "outputs": [],
   "source": [
    "from keras.models import Sequential\n",
    "\n",
    "classifier = Sequential()"
   ]
  },
  {
   "cell_type": "code",
   "execution_count": 3,
   "id": "5d6ea6ab",
   "metadata": {},
   "outputs": [],
   "source": [
    "# Adding a Convolution Network to see a pattern in the pictures\n",
    "from keras.layers import Convolution2D\n",
    "\n",
    "classifier.add(Convolution2D(64, 3, 3, input_shape = (128, 128, 3), activation=\"relu\"))"
   ]
  },
  {
   "cell_type": "code",
   "execution_count": 4,
   "id": "f7eecee0",
   "metadata": {},
   "outputs": [],
   "source": [
    "# Max pooling to mimimie the size and to detect the pattern of information on the neighbour pixels also\n",
    "\n",
    "from keras.layers import MaxPooling2D\n",
    "\n",
    "classifier.add(MaxPooling2D( pool_size=(2,2) ))"
   ]
  },
  {
   "cell_type": "code",
   "execution_count": 5,
   "id": "36435332",
   "metadata": {},
   "outputs": [],
   "source": [
    "# Adding another Convolution and MaxPooling Network\n",
    "\n",
    "classifier.add(Convolution2D(128, 3, 3, activation=\"relu\"))\n",
    "classifier.add(MaxPooling2D(pool_size=(2,2)))"
   ]
  },
  {
   "cell_type": "code",
   "execution_count": 6,
   "id": "4396e4c8",
   "metadata": {},
   "outputs": [],
   "source": [
    "# Flatening the Layers\n",
    "from keras.layers import Flatten\n",
    "\n",
    "classifier.add(Flatten())"
   ]
  },
  {
   "cell_type": "code",
   "execution_count": 7,
   "id": "f6b2e65c",
   "metadata": {},
   "outputs": [],
   "source": [
    "# Adding first Connected Layer\n",
    "from keras.layers import Dense\n",
    "\n",
    "classifier.add(Dense(units=128, activation=\"relu\"))"
   ]
  },
  {
   "cell_type": "code",
   "execution_count": 8,
   "id": "4f7a06c7",
   "metadata": {},
   "outputs": [],
   "source": [
    "# Adding Second Connected Layer\n",
    "\n",
    "classifier.add(Dense(units=128, activation=\"relu\"))"
   ]
  },
  {
   "cell_type": "code",
   "execution_count": 9,
   "id": "b24dbd64",
   "metadata": {},
   "outputs": [],
   "source": [
    "# Adding the Output Layer\n",
    "\n",
    "classifier.add(Dense(units=2, activation=\"sigmoid\"))\n",
    "\n",
    "# this Flatten is because an error was caused \n",
    "# ValueError: logits and labels must have the same shape ((None, None, None, 1) vs (None, 1))\n",
    "#  TO avoid that we have to use  this faltten to Flatten the output Layer\n",
    "classifier.add(Flatten())"
   ]
  },
  {
   "cell_type": "code",
   "execution_count": 10,
   "id": "46193019",
   "metadata": {},
   "outputs": [],
   "source": [
    "# Compiling the Layers\n",
    "\n",
    "classifier.compile(optimizer=\"adam\", loss=\"binary_crossentropy\", metrics=[\"accuracy\"])"
   ]
  },
  {
   "cell_type": "markdown",
   "id": "640ca596",
   "metadata": {},
   "source": [
    "# What we Have Done So Far"
   ]
  },
  {
   "cell_type": "markdown",
   "id": "a16a9f16",
   "metadata": {},
   "source": [
    "<img src=\"done.png\">"
   ]
  },
  {
   "cell_type": "markdown",
   "id": "d94fa736",
   "metadata": {},
   "source": [
    "## Now as we are Not having enough trainig and test set to avoid overfitting the Data we have to use ImageDataGenerator to generate many more pictures of Cats and Dogs just by making some small chnages to few of them"
   ]
  },
  {
   "cell_type": "code",
   "execution_count": 14,
   "id": "e9a5e255",
   "metadata": {},
   "outputs": [
    {
     "name": "stdout",
     "output_type": "stream",
     "text": [
      "Found 8000 images belonging to 2 classes.\n",
      "Found 2000 images belonging to 2 classes.\n",
      "Epoch 1/50\n",
      "8000/8000 [==============================] - 34s 4ms/step - loss: 0.6436 - accuracy: 0.5075 - val_loss: 0.6466 - val_accuracy: 0.5760\n",
      "Epoch 2/50\n",
      "8000/8000 [==============================] - 35s 4ms/step - loss: 0.6145 - accuracy: 0.5115 - val_loss: 0.5916 - val_accuracy: 0.4525\n",
      "Epoch 3/50\n",
      "8000/8000 [==============================] - 35s 4ms/step - loss: 0.5907 - accuracy: 0.5002 - val_loss: 0.6321 - val_accuracy: 0.5180\n",
      "Epoch 4/50\n",
      "8000/8000 [==============================] - 34s 4ms/step - loss: 0.5817 - accuracy: 0.4955 - val_loss: 0.5788 - val_accuracy: 0.5295\n",
      "Epoch 5/50\n",
      "8000/8000 [==============================] - 34s 4ms/step - loss: 0.5643 - accuracy: 0.4870 - val_loss: 0.5949 - val_accuracy: 0.4610\n",
      "Epoch 6/50\n",
      "8000/8000 [==============================] - 37s 5ms/step - loss: 0.5575 - accuracy: 0.4809 - val_loss: 0.5611 - val_accuracy: 0.4820\n",
      "Epoch 7/50\n",
      "8000/8000 [==============================] - 34s 4ms/step - loss: 0.5459 - accuracy: 0.5052 - val_loss: 0.5312 - val_accuracy: 0.5305\n",
      "Epoch 8/50\n",
      "8000/8000 [==============================] - 34s 4ms/step - loss: 0.5458 - accuracy: 0.4945 - val_loss: 0.5467 - val_accuracy: 0.4625\n",
      "Epoch 9/50\n",
      "8000/8000 [==============================] - 37s 5ms/step - loss: 0.5373 - accuracy: 0.4706 - val_loss: 0.5284 - val_accuracy: 0.4545\n",
      "Epoch 10/50\n",
      "8000/8000 [==============================] - 35s 4ms/step - loss: 0.5295 - accuracy: 0.5082 - val_loss: 0.5451 - val_accuracy: 0.4930\n",
      "Epoch 11/50\n",
      "8000/8000 [==============================] - 34s 4ms/step - loss: 0.5237 - accuracy: 0.4349 - val_loss: 0.5439 - val_accuracy: 0.4705\n",
      "Epoch 12/50\n",
      "8000/8000 [==============================] - 35s 4ms/step - loss: 0.5172 - accuracy: 0.4885 - val_loss: 0.5238 - val_accuracy: 0.6415\n",
      "Epoch 13/50\n",
      "8000/8000 [==============================] - 37s 5ms/step - loss: 0.5143 - accuracy: 0.4886 - val_loss: 0.5163 - val_accuracy: 0.4280\n",
      "Epoch 14/50\n",
      "8000/8000 [==============================] - 34s 4ms/step - loss: 0.5139 - accuracy: 0.4626 - val_loss: 0.5245 - val_accuracy: 0.4235\n",
      "Epoch 15/50\n",
      "8000/8000 [==============================] - 34s 4ms/step - loss: 0.5095 - accuracy: 0.5515 - val_loss: 0.5359 - val_accuracy: 0.4720\n",
      "Epoch 16/50\n",
      "8000/8000 [==============================] - 37s 5ms/step - loss: 0.5054 - accuracy: 0.4383 - val_loss: 0.5490 - val_accuracy: 0.3705\n",
      "Epoch 17/50\n",
      "8000/8000 [==============================] - 34s 4ms/step - loss: 0.5072 - accuracy: 0.4031 - val_loss: 0.5133 - val_accuracy: 0.4315\n",
      "Epoch 18/50\n",
      "8000/8000 [==============================] - 35s 4ms/step - loss: 0.5028 - accuracy: 0.4459 - val_loss: 0.5084 - val_accuracy: 0.4760\n",
      "Epoch 19/50\n",
      "8000/8000 [==============================] - 36s 4ms/step - loss: 0.4918 - accuracy: 0.5077 - val_loss: 0.5414 - val_accuracy: 0.4480\n",
      "Epoch 20/50\n",
      "8000/8000 [==============================] - 36s 5ms/step - loss: 0.4974 - accuracy: 0.4431 - val_loss: 0.5147 - val_accuracy: 0.5190\n",
      "Epoch 21/50\n",
      "8000/8000 [==============================] - 34s 4ms/step - loss: 0.4924 - accuracy: 0.4095 - val_loss: 0.4938 - val_accuracy: 0.5350\n",
      "Epoch 22/50\n",
      "8000/8000 [==============================] - 35s 4ms/step - loss: 0.4875 - accuracy: 0.5301 - val_loss: 0.5030 - val_accuracy: 0.4390\n",
      "Epoch 23/50\n",
      "8000/8000 [==============================] - 37s 5ms/step - loss: 0.4927 - accuracy: 0.5638 - val_loss: 0.4884 - val_accuracy: 0.7060\n",
      "Epoch 24/50\n",
      "8000/8000 [==============================] - 34s 4ms/step - loss: 0.4815 - accuracy: 0.5235 - val_loss: 0.4957 - val_accuracy: 0.5340\n",
      "Epoch 25/50\n",
      "8000/8000 [==============================] - 35s 4ms/step - loss: 0.4803 - accuracy: 0.4548 - val_loss: 0.5081 - val_accuracy: 0.3675\n",
      "Epoch 26/50\n",
      "8000/8000 [==============================] - 37s 5ms/step - loss: 0.4731 - accuracy: 0.4201 - val_loss: 0.4950 - val_accuracy: 0.4935\n",
      "Epoch 27/50\n",
      "8000/8000 [==============================] - 35s 4ms/step - loss: 0.4826 - accuracy: 0.4455 - val_loss: 0.4859 - val_accuracy: 0.3040\n",
      "Epoch 28/50\n",
      "8000/8000 [==============================] - 35s 4ms/step - loss: 0.4767 - accuracy: 0.4038 - val_loss: 0.5069 - val_accuracy: 0.6750\n",
      "Epoch 29/50\n",
      "8000/8000 [==============================] - 35s 4ms/step - loss: 0.4671 - accuracy: 0.4694 - val_loss: 0.5701 - val_accuracy: 0.3075\n",
      "Epoch 30/50\n",
      "8000/8000 [==============================] - 37s 5ms/step - loss: 0.4718 - accuracy: 0.5537 - val_loss: 0.5235 - val_accuracy: 0.6475\n",
      "Epoch 31/50\n",
      "8000/8000 [==============================] - 35s 4ms/step - loss: 0.4654 - accuracy: 0.4780 - val_loss: 0.4892 - val_accuracy: 0.3915\n",
      "Epoch 32/50\n",
      "8000/8000 [==============================] - 35s 4ms/step - loss: 0.4659 - accuracy: 0.4134 - val_loss: 0.5240 - val_accuracy: 0.3290\n",
      "Epoch 33/50\n",
      "8000/8000 [==============================] - 38s 5ms/step - loss: 0.4639 - accuracy: 0.3974 - val_loss: 0.5186 - val_accuracy: 0.4385\n",
      "Epoch 34/50\n",
      "8000/8000 [==============================] - 35s 4ms/step - loss: 0.4661 - accuracy: 0.4757 - val_loss: 0.4979 - val_accuracy: 0.7145\n",
      "Epoch 35/50\n",
      "8000/8000 [==============================] - 35s 4ms/step - loss: 0.4686 - accuracy: 0.6249 - val_loss: 0.5829 - val_accuracy: 0.7100\n",
      "Epoch 36/50\n",
      "8000/8000 [==============================] - 37s 5ms/step - loss: 0.4590 - accuracy: 0.5835 - val_loss: 0.5668 - val_accuracy: 0.5980\n",
      "Epoch 37/50\n",
      "8000/8000 [==============================] - 36s 4ms/step - loss: 0.4580 - accuracy: 0.6223 - val_loss: 0.5223 - val_accuracy: 0.4530\n",
      "Epoch 38/50\n",
      "8000/8000 [==============================] - 35s 4ms/step - loss: 0.4551 - accuracy: 0.6095 - val_loss: 0.4804 - val_accuracy: 0.4140\n",
      "Epoch 39/50\n",
      "8000/8000 [==============================] - 35s 4ms/step - loss: 0.4632 - accuracy: 0.5490 - val_loss: 0.5059 - val_accuracy: 0.5465\n",
      "Epoch 40/50\n",
      "8000/8000 [==============================] - 38s 5ms/step - loss: 0.4563 - accuracy: 0.5362 - val_loss: 0.4786 - val_accuracy: 0.5050\n",
      "Epoch 41/50\n",
      "8000/8000 [==============================] - 35s 4ms/step - loss: 0.4569 - accuracy: 0.6104 - val_loss: 0.4924 - val_accuracy: 0.4620\n",
      "Epoch 42/50\n",
      "8000/8000 [==============================] - 35s 4ms/step - loss: 0.4507 - accuracy: 0.4602 - val_loss: 0.5164 - val_accuracy: 0.3325\n",
      "Epoch 43/50\n",
      "8000/8000 [==============================] - 39s 5ms/step - loss: 0.4421 - accuracy: 0.5166 - val_loss: 0.5077 - val_accuracy: 0.5555\n",
      "Epoch 44/50\n",
      "8000/8000 [==============================] - 35s 4ms/step - loss: 0.4494 - accuracy: 0.6003 - val_loss: 0.4857 - val_accuracy: 0.6235\n",
      "Epoch 45/50\n",
      "8000/8000 [==============================] - 35s 4ms/step - loss: 0.4472 - accuracy: 0.6420 - val_loss: 0.4768 - val_accuracy: 0.5950\n",
      "Epoch 46/50\n",
      "8000/8000 [==============================] - 37s 5ms/step - loss: 0.4522 - accuracy: 0.6241 - val_loss: 0.5041 - val_accuracy: 0.6440\n",
      "Epoch 47/50\n",
      "8000/8000 [==============================] - 36s 4ms/step - loss: 0.4471 - accuracy: 0.6354 - val_loss: 0.4755 - val_accuracy: 0.7045\n",
      "Epoch 48/50\n",
      "8000/8000 [==============================] - 35s 4ms/step - loss: 0.4401 - accuracy: 0.6260 - val_loss: 0.5498 - val_accuracy: 0.6190\n",
      "Epoch 49/50\n",
      "8000/8000 [==============================] - 36s 4ms/step - loss: 0.4340 - accuracy: 0.5950 - val_loss: 0.4813 - val_accuracy: 0.6330\n",
      "Epoch 50/50\n",
      "8000/8000 [==============================] - 38s 5ms/step - loss: 0.4487 - accuracy: 0.5589 - val_loss: 0.5292 - val_accuracy: 0.6750\n"
     ]
    },
    {
     "data": {
      "text/plain": [
       "<keras.callbacks.History at 0x1f8003c3f48>"
      ]
     },
     "execution_count": 14,
     "metadata": {},
     "output_type": "execute_result"
    }
   ],
   "source": [
    "from keras.preprocessing.image import ImageDataGenerator\n",
    "\n",
    "\n",
    "train_datagen = ImageDataGenerator(\n",
    "        rescale=1./255,\n",
    "        shear_range=0.2,\n",
    "        zoom_range=0.2,\n",
    "        horizontal_flip=True)\n",
    "\n",
    "test_datagen = ImageDataGenerator(rescale=1./255)\n",
    "\n",
    "training_set = train_datagen.flow_from_directory(\n",
    "        'dataset/training_set',\n",
    "        target_size=(128, 128),\n",
    "        batch_size=32,\n",
    "        class_mode='binary')\n",
    "\n",
    "testing_set = test_datagen.flow_from_directory(\n",
    "        'dataset/test_set',\n",
    "        target_size=(128, 128),\n",
    "        batch_size=32,\n",
    "        class_mode='binary')\n",
    "\n",
    "classifier.fit(\n",
    "        training_set,\n",
    "        max_queue_size=8000,\n",
    "        epochs=50,\n",
    "        validation_data=testing_set,\n",
    "        validation_batch_size=2000)"
   ]
  },
  {
   "cell_type": "code",
   "execution_count": null,
   "id": "bb37e3be",
   "metadata": {},
   "outputs": [],
   "source": []
  },
  {
   "cell_type": "code",
   "execution_count": null,
   "id": "5c9f30c8",
   "metadata": {},
   "outputs": [],
   "source": [
    "\n"
   ]
  },
  {
   "cell_type": "code",
   "execution_count": null,
   "id": "9f5e3e94",
   "metadata": {},
   "outputs": [],
   "source": []
  }
 ],
 "metadata": {
  "kernelspec": {
   "display_name": "Python 3 (ipykernel)",
   "language": "python",
   "name": "python3"
  },
  "language_info": {
   "codemirror_mode": {
    "name": "ipython",
    "version": 3
   },
   "file_extension": ".py",
   "mimetype": "text/x-python",
   "name": "python",
   "nbconvert_exporter": "python",
   "pygments_lexer": "ipython3",
   "version": "3.7.9"
  }
 },
 "nbformat": 4,
 "nbformat_minor": 5
}
