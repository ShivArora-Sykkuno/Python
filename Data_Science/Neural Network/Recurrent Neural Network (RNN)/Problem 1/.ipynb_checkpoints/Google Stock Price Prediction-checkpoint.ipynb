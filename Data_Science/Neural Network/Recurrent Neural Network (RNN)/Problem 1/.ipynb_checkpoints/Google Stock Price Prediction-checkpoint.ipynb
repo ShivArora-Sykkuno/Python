{
 "cells": [
  {
   "cell_type": "markdown",
   "id": "f6c6c75e",
   "metadata": {},
   "source": [
    "# Data Preprocessing"
   ]
  },
  {
   "cell_type": "code",
   "execution_count": 1,
   "id": "40818869",
   "metadata": {},
   "outputs": [],
   "source": [
    "import pandas as pd\n",
    "import numpy as np\n",
    "import matplotlib.pyplot as plt"
   ]
  },
  {
   "cell_type": "code",
   "execution_count": 3,
   "id": "5920ca1b",
   "metadata": {},
   "outputs": [
    {
     "data": {
      "text/html": [
       "<div>\n",
       "<style scoped>\n",
       "    .dataframe tbody tr th:only-of-type {\n",
       "        vertical-align: middle;\n",
       "    }\n",
       "\n",
       "    .dataframe tbody tr th {\n",
       "        vertical-align: top;\n",
       "    }\n",
       "\n",
       "    .dataframe thead th {\n",
       "        text-align: right;\n",
       "    }\n",
       "</style>\n",
       "<table border=\"1\" class=\"dataframe\">\n",
       "  <thead>\n",
       "    <tr style=\"text-align: right;\">\n",
       "      <th></th>\n",
       "      <th>Date</th>\n",
       "      <th>Open</th>\n",
       "      <th>High</th>\n",
       "      <th>Low</th>\n",
       "      <th>Close</th>\n",
       "      <th>Volume</th>\n",
       "    </tr>\n",
       "  </thead>\n",
       "  <tbody>\n",
       "    <tr>\n",
       "      <th>0</th>\n",
       "      <td>1/3/2012</td>\n",
       "      <td>325.25</td>\n",
       "      <td>332.83</td>\n",
       "      <td>324.97</td>\n",
       "      <td>663.59</td>\n",
       "      <td>7,380,500</td>\n",
       "    </tr>\n",
       "    <tr>\n",
       "      <th>1</th>\n",
       "      <td>1/4/2012</td>\n",
       "      <td>331.27</td>\n",
       "      <td>333.87</td>\n",
       "      <td>329.08</td>\n",
       "      <td>666.45</td>\n",
       "      <td>5,749,400</td>\n",
       "    </tr>\n",
       "    <tr>\n",
       "      <th>2</th>\n",
       "      <td>1/5/2012</td>\n",
       "      <td>329.83</td>\n",
       "      <td>330.75</td>\n",
       "      <td>326.89</td>\n",
       "      <td>657.21</td>\n",
       "      <td>6,590,300</td>\n",
       "    </tr>\n",
       "    <tr>\n",
       "      <th>3</th>\n",
       "      <td>1/6/2012</td>\n",
       "      <td>328.34</td>\n",
       "      <td>328.77</td>\n",
       "      <td>323.68</td>\n",
       "      <td>648.24</td>\n",
       "      <td>5,405,900</td>\n",
       "    </tr>\n",
       "    <tr>\n",
       "      <th>4</th>\n",
       "      <td>1/9/2012</td>\n",
       "      <td>322.04</td>\n",
       "      <td>322.29</td>\n",
       "      <td>309.46</td>\n",
       "      <td>620.76</td>\n",
       "      <td>11,688,800</td>\n",
       "    </tr>\n",
       "  </tbody>\n",
       "</table>\n",
       "</div>"
      ],
      "text/plain": [
       "       Date    Open    High     Low   Close      Volume\n",
       "0  1/3/2012  325.25  332.83  324.97  663.59   7,380,500\n",
       "1  1/4/2012  331.27  333.87  329.08  666.45   5,749,400\n",
       "2  1/5/2012  329.83  330.75  326.89  657.21   6,590,300\n",
       "3  1/6/2012  328.34  328.77  323.68  648.24   5,405,900\n",
       "4  1/9/2012  322.04  322.29  309.46  620.76  11,688,800"
      ]
     },
     "execution_count": 3,
     "metadata": {},
     "output_type": "execute_result"
    }
   ],
   "source": [
    "traning_set = pd.read_csv(\"Google_Stock_Price_Train.csv\")\n",
    "traning_set.head()"
   ]
  },
  {
   "cell_type": "code",
   "execution_count": 5,
   "id": "1b765662",
   "metadata": {},
   "outputs": [],
   "source": [
    "traning = traning_set.iloc[:, 1:2].values"
   ]
  },
  {
   "cell_type": "code",
   "execution_count": 6,
   "id": "bbca7663",
   "metadata": {},
   "outputs": [],
   "source": [
    "from sklearn.preprocessing import MinMaxScaler\n",
    "scaler = MinMaxScaler(feature_range = (0, 1))\n",
    "scaled_traning_data = scaler.fit_transform(traning)"
   ]
  },
  {
   "cell_type": "code",
   "execution_count": 8,
   "id": "4eae4190",
   "metadata": {},
   "outputs": [
    {
     "data": {
      "text/plain": [
       "(1258, 1)"
      ]
     },
     "execution_count": 8,
     "metadata": {},
     "output_type": "execute_result"
    }
   ],
   "source": [
    "scaled_traning_data.shape"
   ]
  },
  {
   "cell_type": "code",
   "execution_count": 9,
   "id": "26da943f",
   "metadata": {},
   "outputs": [],
   "source": [
    "X_train = []\n",
    "y_train = []\n",
    "\n",
    "# Creating a Data Structure with 60 timesteps and 1 output\n",
    "for i in range(60, 1258):\n",
    "    X_train.append(scaled_traning_data[i-60 : i, 0])\n",
    "    y_train.append(scaled_traning_data[i, 0])\n",
    "    \n",
    "X_train, y_train = np.array(X_train), np.array(y_train)"
   ]
  },
  {
   "cell_type": "code",
   "execution_count": 12,
   "id": "37eb35f4",
   "metadata": {},
   "outputs": [],
   "source": [
    "# Reshaping if we have to put another key feature in between like if Google Stock Price is dependent on Some Another variable\n",
    "X_train = np.reshape(X_train, (X_train.shape[0], X_train.shape[1], 1))"
   ]
  },
  {
   "cell_type": "markdown",
   "id": "16e3405f",
   "metadata": {},
   "source": [
    "# Building the Model"
   ]
  },
  {
   "cell_type": "code",
   "execution_count": 51,
   "id": "896390de",
   "metadata": {},
   "outputs": [],
   "source": [
    "from keras.models import Sequential\n",
    "from keras.layers import LSTM\n",
    "from keras.layers import Dropout\n",
    "from keras.layers import Dense"
   ]
  },
  {
   "cell_type": "code",
   "execution_count": 52,
   "id": "edc4630f",
   "metadata": {},
   "outputs": [],
   "source": [
    "regressor = Sequential()"
   ]
  },
  {
   "cell_type": "code",
   "execution_count": 53,
   "id": "912662c7",
   "metadata": {},
   "outputs": [],
   "source": [
    "# Adding First LSTM Layer\n",
    "\n",
    "regressor.add(LSTM(units=50, return_sequences=True, input_shape=(X_train.shape[1], 1)))\n",
    "regressor.add(Dropout(0.2))"
   ]
  },
  {
   "cell_type": "code",
   "execution_count": 54,
   "id": "0eb036f0",
   "metadata": {},
   "outputs": [],
   "source": [
    "# Adding Second LSTM Layer\n",
    "\n",
    "regressor.add(LSTM(units=50, return_sequences=True))\n",
    "regressor.add(Dropout(0.2))"
   ]
  },
  {
   "cell_type": "code",
   "execution_count": 55,
   "id": "dc6197b9",
   "metadata": {},
   "outputs": [],
   "source": [
    "# Adding third LSTM Layer\n",
    "\n",
    "regressor.add(LSTM(units=50, return_sequences=True))\n",
    "regressor.add(Dropout(0.2))"
   ]
  },
  {
   "cell_type": "code",
   "execution_count": 56,
   "id": "0d0d8904",
   "metadata": {},
   "outputs": [],
   "source": [
    "# Adding fourth and Last LSTM Layer\n",
    "\n",
    "regressor.add(LSTM(units=50, return_sequences=False))\n",
    "regressor.add(Dropout(0.2))"
   ]
  },
  {
   "cell_type": "code",
   "execution_count": 57,
   "id": "e45f89b0",
   "metadata": {},
   "outputs": [],
   "source": [
    "regressor.add(Dense(units=1))"
   ]
  },
  {
   "cell_type": "code",
   "execution_count": 58,
   "id": "f78da408",
   "metadata": {},
   "outputs": [],
   "source": [
    "regressor.compile(optimizer=\"adam\", loss=\"mean_squared_error\")"
   ]
  },
  {
   "cell_type": "code",
   "execution_count": 59,
   "id": "f787d265",
   "metadata": {},
   "outputs": [
    {
     "name": "stdout",
     "output_type": "stream",
     "text": [
      "Epoch 1/200\n",
      "38/38 [==============================] - 7s 49ms/step - loss: 0.0388\n",
      "Epoch 2/200\n",
      "38/38 [==============================] - 2s 52ms/step - loss: 0.0065\n",
      "Epoch 3/200\n",
      "38/38 [==============================] - 2s 55ms/step - loss: 0.0054\n",
      "Epoch 4/200\n",
      "38/38 [==============================] - 2s 58ms/step - loss: 0.0048\n",
      "Epoch 5/200\n",
      "38/38 [==============================] - 2s 60ms/step - loss: 0.0045\n",
      "Epoch 6/200\n",
      "38/38 [==============================] - 2s 57ms/step - loss: 0.0049\n",
      "Epoch 7/200\n",
      "38/38 [==============================] - 2s 48ms/step - loss: 0.0046\n",
      "Epoch 8/200\n",
      "38/38 [==============================] - 2s 48ms/step - loss: 0.0057\n",
      "Epoch 9/200\n",
      "38/38 [==============================] - 2s 48ms/step - loss: 0.0044\n",
      "Epoch 10/200\n",
      "38/38 [==============================] - 2s 48ms/step - loss: 0.0038\n",
      "Epoch 11/200\n",
      "38/38 [==============================] - 2s 50ms/step - loss: 0.0046\n",
      "Epoch 12/200\n",
      "38/38 [==============================] - 2s 48ms/step - loss: 0.0037\n",
      "Epoch 13/200\n",
      "38/38 [==============================] - 2s 48ms/step - loss: 0.0047\n",
      "Epoch 14/200\n",
      "38/38 [==============================] - 2s 48ms/step - loss: 0.0040\n",
      "Epoch 15/200\n",
      "38/38 [==============================] - 2s 47ms/step - loss: 0.0036\n",
      "Epoch 16/200\n",
      "38/38 [==============================] - 2s 48ms/step - loss: 0.0037\n",
      "Epoch 17/200\n",
      "38/38 [==============================] - 2s 49ms/step - loss: 0.0036\n",
      "Epoch 18/200\n",
      "38/38 [==============================] - 2s 48ms/step - loss: 0.0040\n",
      "Epoch 19/200\n",
      "38/38 [==============================] - 2s 49ms/step - loss: 0.0043\n",
      "Epoch 20/200\n",
      "38/38 [==============================] - 2s 48ms/step - loss: 0.0032\n",
      "Epoch 21/200\n",
      "38/38 [==============================] - 2s 48ms/step - loss: 0.0032\n",
      "Epoch 22/200\n",
      "38/38 [==============================] - 2s 49ms/step - loss: 0.0033\n",
      "Epoch 23/200\n",
      "38/38 [==============================] - 2s 48ms/step - loss: 0.0033\n",
      "Epoch 24/200\n",
      "38/38 [==============================] - 2s 47ms/step - loss: 0.0032\n",
      "Epoch 25/200\n",
      "38/38 [==============================] - 2s 48ms/step - loss: 0.0033\n",
      "Epoch 26/200\n",
      "38/38 [==============================] - 2s 48ms/step - loss: 0.0029\n",
      "Epoch 27/200\n",
      "38/38 [==============================] - 2s 48ms/step - loss: 0.0031\n",
      "Epoch 28/200\n",
      "38/38 [==============================] - 2s 49ms/step - loss: 0.0031\n",
      "Epoch 29/200\n",
      "38/38 [==============================] - 2s 47ms/step - loss: 0.0031\n",
      "Epoch 30/200\n",
      "38/38 [==============================] - 2s 48ms/step - loss: 0.0029\n",
      "Epoch 31/200\n",
      "38/38 [==============================] - 2s 48ms/step - loss: 0.0029\n",
      "Epoch 32/200\n",
      "38/38 [==============================] - 2s 47ms/step - loss: 0.0030\n",
      "Epoch 33/200\n",
      "38/38 [==============================] - 2s 47ms/step - loss: 0.0026\n",
      "Epoch 34/200\n",
      "38/38 [==============================] - 2s 48ms/step - loss: 0.0026\n",
      "Epoch 35/200\n",
      "38/38 [==============================] - 2s 47ms/step - loss: 0.0030\n",
      "Epoch 36/200\n",
      "38/38 [==============================] - 2s 48ms/step - loss: 0.0026\n",
      "Epoch 37/200\n",
      "38/38 [==============================] - 2s 47ms/step - loss: 0.0028\n",
      "Epoch 38/200\n",
      "38/38 [==============================] - 2s 47ms/step - loss: 0.0024\n",
      "Epoch 39/200\n",
      "38/38 [==============================] - 2s 47ms/step - loss: 0.0025\n",
      "Epoch 40/200\n",
      "38/38 [==============================] - 2s 48ms/step - loss: 0.0027\n",
      "Epoch 41/200\n",
      "38/38 [==============================] - 2s 48ms/step - loss: 0.0029\n",
      "Epoch 42/200\n",
      "38/38 [==============================] - 2s 48ms/step - loss: 0.0028\n",
      "Epoch 43/200\n",
      "38/38 [==============================] - 2s 47ms/step - loss: 0.0025\n",
      "Epoch 44/200\n",
      "38/38 [==============================] - 2s 47ms/step - loss: 0.0024\n",
      "Epoch 45/200\n",
      "38/38 [==============================] - 2s 48ms/step - loss: 0.0021\n",
      "Epoch 46/200\n",
      "38/38 [==============================] - 2s 49ms/step - loss: 0.0024\n",
      "Epoch 47/200\n",
      "38/38 [==============================] - 2s 48ms/step - loss: 0.0028\n",
      "Epoch 48/200\n",
      "38/38 [==============================] - 2s 47ms/step - loss: 0.0025\n",
      "Epoch 49/200\n",
      "38/38 [==============================] - 2s 47ms/step - loss: 0.0025\n",
      "Epoch 50/200\n",
      "38/38 [==============================] - 2s 47ms/step - loss: 0.0025\n",
      "Epoch 51/200\n",
      "38/38 [==============================] - 2s 49ms/step - loss: 0.0022\n",
      "Epoch 52/200\n",
      "38/38 [==============================] - 2s 48ms/step - loss: 0.0024\n",
      "Epoch 53/200\n",
      "38/38 [==============================] - 2s 47ms/step - loss: 0.0020\n",
      "Epoch 54/200\n",
      "38/38 [==============================] - 2s 47ms/step - loss: 0.0021\n",
      "Epoch 55/200\n",
      "38/38 [==============================] - 2s 47ms/step - loss: 0.0023\n",
      "Epoch 56/200\n",
      "38/38 [==============================] - 2s 48ms/step - loss: 0.0024\n",
      "Epoch 57/200\n",
      "38/38 [==============================] - 2s 49ms/step - loss: 0.0021\n",
      "Epoch 58/200\n",
      "38/38 [==============================] - 2s 47ms/step - loss: 0.0022\n",
      "Epoch 59/200\n",
      "38/38 [==============================] - 2s 49ms/step - loss: 0.0022\n",
      "Epoch 60/200\n",
      "38/38 [==============================] - 2s 47ms/step - loss: 0.0022\n",
      "Epoch 61/200\n",
      "38/38 [==============================] - 2s 48ms/step - loss: 0.0025\n",
      "Epoch 62/200\n",
      "38/38 [==============================] - 2s 49ms/step - loss: 0.0020\n",
      "Epoch 63/200\n",
      "38/38 [==============================] - 2s 48ms/step - loss: 0.0024\n",
      "Epoch 64/200\n",
      "38/38 [==============================] - 2s 48ms/step - loss: 0.0019\n",
      "Epoch 65/200\n",
      "38/38 [==============================] - 2s 48ms/step - loss: 0.0020\n",
      "Epoch 66/200\n",
      "38/38 [==============================] - 2s 48ms/step - loss: 0.0020\n",
      "Epoch 67/200\n",
      "38/38 [==============================] - 2s 48ms/step - loss: 0.0018\n",
      "Epoch 68/200\n",
      "38/38 [==============================] - 2s 48ms/step - loss: 0.0019\n",
      "Epoch 69/200\n",
      "38/38 [==============================] - 2s 48ms/step - loss: 0.0018\n",
      "Epoch 70/200\n",
      "38/38 [==============================] - 2s 47ms/step - loss: 0.0019\n",
      "Epoch 71/200\n",
      "38/38 [==============================] - 2s 48ms/step - loss: 0.0019\n",
      "Epoch 72/200\n",
      "38/38 [==============================] - 2s 48ms/step - loss: 0.0017\n",
      "Epoch 73/200\n",
      "38/38 [==============================] - 2s 47ms/step - loss: 0.0021\n",
      "Epoch 74/200\n",
      "38/38 [==============================] - 2s 49ms/step - loss: 0.0016\n",
      "Epoch 75/200\n",
      "38/38 [==============================] - 2s 48ms/step - loss: 0.0019\n",
      "Epoch 76/200\n",
      "38/38 [==============================] - 2s 48ms/step - loss: 0.0020\n",
      "Epoch 77/200\n",
      "38/38 [==============================] - 2s 47ms/step - loss: 0.0019\n",
      "Epoch 78/200\n",
      "38/38 [==============================] - 2s 47ms/step - loss: 0.0018\n",
      "Epoch 79/200\n",
      "38/38 [==============================] - 2s 47ms/step - loss: 0.0017\n",
      "Epoch 80/200\n",
      "38/38 [==============================] - 2s 48ms/step - loss: 0.0016\n",
      "Epoch 81/200\n",
      "38/38 [==============================] - 2s 49ms/step - loss: 0.0018\n",
      "Epoch 82/200\n",
      "38/38 [==============================] - 2s 47ms/step - loss: 0.0016\n",
      "Epoch 83/200\n",
      "38/38 [==============================] - 2s 47ms/step - loss: 0.0017\n",
      "Epoch 84/200\n",
      "38/38 [==============================] - 2s 47ms/step - loss: 0.0016\n",
      "Epoch 85/200\n",
      "38/38 [==============================] - 2s 49ms/step - loss: 0.0016\n",
      "Epoch 86/200\n",
      "38/38 [==============================] - 2s 48ms/step - loss: 0.0016\n",
      "Epoch 87/200\n",
      "38/38 [==============================] - 2s 48ms/step - loss: 0.0015\n",
      "Epoch 88/200\n",
      "38/38 [==============================] - 2s 47ms/step - loss: 0.0015\n",
      "Epoch 89/200\n",
      "38/38 [==============================] - 2s 47ms/step - loss: 0.0016\n",
      "Epoch 90/200\n",
      "38/38 [==============================] - 2s 48ms/step - loss: 0.0016\n",
      "Epoch 91/200\n",
      "38/38 [==============================] - 2s 50ms/step - loss: 0.0017\n",
      "Epoch 92/200\n",
      "38/38 [==============================] - 2s 47ms/step - loss: 0.0015\n",
      "Epoch 93/200\n",
      "38/38 [==============================] - 2s 47ms/step - loss: 0.0015\n",
      "Epoch 94/200\n",
      "38/38 [==============================] - 2s 51ms/step - loss: 0.0016\n",
      "Epoch 95/200\n",
      "38/38 [==============================] - 2s 48ms/step - loss: 0.0014\n",
      "Epoch 96/200\n",
      "38/38 [==============================] - 2s 50ms/step - loss: 0.0016\n",
      "Epoch 97/200\n",
      "38/38 [==============================] - 2s 51ms/step - loss: 0.0015\n",
      "Epoch 98/200\n",
      "38/38 [==============================] - 2s 47ms/step - loss: 0.0015\n",
      "Epoch 99/200\n",
      "38/38 [==============================] - 2s 48ms/step - loss: 0.0014\n",
      "Epoch 100/200\n",
      "38/38 [==============================] - 2s 48ms/step - loss: 0.0013\n",
      "Epoch 101/200\n"
     ]
    },
    {
     "name": "stdout",
     "output_type": "stream",
     "text": [
      "38/38 [==============================] - 2s 49ms/step - loss: 0.0017\n",
      "Epoch 102/200\n",
      "38/38 [==============================] - 2s 49ms/step - loss: 0.0015\n",
      "Epoch 103/200\n",
      "38/38 [==============================] - 2s 47ms/step - loss: 0.0014\n",
      "Epoch 104/200\n",
      "38/38 [==============================] - 2s 48ms/step - loss: 0.0015\n",
      "Epoch 105/200\n",
      "38/38 [==============================] - 2s 48ms/step - loss: 0.0014\n",
      "Epoch 106/200\n",
      "38/38 [==============================] - 2s 49ms/step - loss: 0.0014\n",
      "Epoch 107/200\n",
      "38/38 [==============================] - 2s 47ms/step - loss: 0.0013\n",
      "Epoch 108/200\n",
      "38/38 [==============================] - 2s 49ms/step - loss: 0.0013\n",
      "Epoch 109/200\n",
      "38/38 [==============================] - 2s 47ms/step - loss: 0.0014\n",
      "Epoch 110/200\n",
      "38/38 [==============================] - 2s 48ms/step - loss: 0.0014\n",
      "Epoch 111/200\n",
      "38/38 [==============================] - 2s 48ms/step - loss: 0.0013\n",
      "Epoch 112/200\n",
      "38/38 [==============================] - 2s 48ms/step - loss: 0.0011\n",
      "Epoch 113/200\n",
      "38/38 [==============================] - 2s 47ms/step - loss: 0.0015\n",
      "Epoch 114/200\n",
      "38/38 [==============================] - 2s 49ms/step - loss: 0.0013\n",
      "Epoch 115/200\n",
      "38/38 [==============================] - 2s 48ms/step - loss: 0.0013\n",
      "Epoch 116/200\n",
      "38/38 [==============================] - 2s 48ms/step - loss: 0.0012\n",
      "Epoch 117/200\n",
      "38/38 [==============================] - 2s 48ms/step - loss: 0.0012\n",
      "Epoch 118/200\n",
      "38/38 [==============================] - 2s 48ms/step - loss: 0.0012\n",
      "Epoch 119/200\n",
      "38/38 [==============================] - 2s 47ms/step - loss: 0.0015\n",
      "Epoch 120/200\n",
      "38/38 [==============================] - 2s 49ms/step - loss: 0.0014\n",
      "Epoch 121/200\n",
      "38/38 [==============================] - 2s 47ms/step - loss: 0.0013\n",
      "Epoch 122/200\n",
      "38/38 [==============================] - 2s 47ms/step - loss: 0.0012\n",
      "Epoch 123/200\n",
      "38/38 [==============================] - 2s 48ms/step - loss: 0.0012\n",
      "Epoch 124/200\n",
      "38/38 [==============================] - 2s 48ms/step - loss: 0.0013\n",
      "Epoch 125/200\n",
      "38/38 [==============================] - 2s 49ms/step - loss: 0.0013\n",
      "Epoch 126/200\n",
      "38/38 [==============================] - 2s 48ms/step - loss: 0.0010\n",
      "Epoch 127/200\n",
      "38/38 [==============================] - 2s 48ms/step - loss: 0.0013\n",
      "Epoch 128/200\n",
      "38/38 [==============================] - 2s 48ms/step - loss: 0.0013\n",
      "Epoch 129/200\n",
      "38/38 [==============================] - 2s 48ms/step - loss: 0.0012\n",
      "Epoch 130/200\n",
      "38/38 [==============================] - 2s 48ms/step - loss: 0.0012\n",
      "Epoch 131/200\n",
      "38/38 [==============================] - 2s 49ms/step - loss: 0.0012\n",
      "Epoch 132/200\n",
      "38/38 [==============================] - 2s 48ms/step - loss: 9.9121e-04\n",
      "Epoch 133/200\n",
      "38/38 [==============================] - 2s 48ms/step - loss: 0.0011\n",
      "Epoch 134/200\n",
      "38/38 [==============================] - 2s 48ms/step - loss: 0.0012\n",
      "Epoch 135/200\n",
      "38/38 [==============================] - 2s 48ms/step - loss: 0.0012\n",
      "Epoch 136/200\n",
      "38/38 [==============================] - 2s 48ms/step - loss: 0.0012\n",
      "Epoch 137/200\n",
      "38/38 [==============================] - 2s 48ms/step - loss: 0.0012\n",
      "Epoch 138/200\n",
      "38/38 [==============================] - 2s 48ms/step - loss: 0.0012\n",
      "Epoch 139/200\n",
      "38/38 [==============================] - 2s 47ms/step - loss: 0.0015\n",
      "Epoch 140/200\n",
      "38/38 [==============================] - 2s 49ms/step - loss: 0.0012\n",
      "Epoch 141/200\n",
      "38/38 [==============================] - 2s 47ms/step - loss: 0.0013\n",
      "Epoch 142/200\n",
      "38/38 [==============================] - 2s 49ms/step - loss: 0.0012\n",
      "Epoch 143/200\n",
      "38/38 [==============================] - 2s 47ms/step - loss: 0.0012\n",
      "Epoch 144/200\n",
      "38/38 [==============================] - 2s 48ms/step - loss: 0.0012\n",
      "Epoch 145/200\n",
      "38/38 [==============================] - 2s 48ms/step - loss: 0.0011\n",
      "Epoch 146/200\n",
      "38/38 [==============================] - 2s 48ms/step - loss: 0.0010\n",
      "Epoch 147/200\n",
      "38/38 [==============================] - 2s 47ms/step - loss: 0.0010\n",
      "Epoch 148/200\n",
      "38/38 [==============================] - 2s 49ms/step - loss: 0.0011\n",
      "Epoch 149/200\n",
      "38/38 [==============================] - 2s 48ms/step - loss: 0.0012\n",
      "Epoch 150/200\n",
      "38/38 [==============================] - 2s 49ms/step - loss: 0.0012\n",
      "Epoch 151/200\n",
      "38/38 [==============================] - 2s 48ms/step - loss: 9.9957e-04\n",
      "Epoch 152/200\n",
      "38/38 [==============================] - 2s 47ms/step - loss: 0.0011\n",
      "Epoch 153/200\n",
      "38/38 [==============================] - 2s 47ms/step - loss: 0.0011\n",
      "Epoch 154/200\n",
      "38/38 [==============================] - 2s 49ms/step - loss: 0.0012\n",
      "Epoch 155/200\n",
      "38/38 [==============================] - 2s 48ms/step - loss: 0.0010\n",
      "Epoch 156/200\n",
      "38/38 [==============================] - 2s 48ms/step - loss: 0.0011\n",
      "Epoch 157/200\n",
      "38/38 [==============================] - 2s 47ms/step - loss: 0.0011\n",
      "Epoch 158/200\n",
      "38/38 [==============================] - 2s 48ms/step - loss: 0.0010\n",
      "Epoch 159/200\n",
      "38/38 [==============================] - 2s 48ms/step - loss: 0.0011\n",
      "Epoch 160/200\n",
      "38/38 [==============================] - 2s 50ms/step - loss: 0.0011\n",
      "Epoch 161/200\n",
      "38/38 [==============================] - 2s 48ms/step - loss: 9.6160e-04\n",
      "Epoch 162/200\n",
      "38/38 [==============================] - 2s 48ms/step - loss: 0.0010\n",
      "Epoch 163/200\n",
      "38/38 [==============================] - 2s 47ms/step - loss: 0.0011\n",
      "Epoch 164/200\n",
      "38/38 [==============================] - 2s 47ms/step - loss: 0.0011\n",
      "Epoch 165/200\n",
      "38/38 [==============================] - 2s 49ms/step - loss: 0.0013\n",
      "Epoch 166/200\n",
      "38/38 [==============================] - 2s 48ms/step - loss: 0.0011\n",
      "Epoch 167/200\n",
      "38/38 [==============================] - 2s 47ms/step - loss: 0.0011\n",
      "Epoch 168/200\n",
      "38/38 [==============================] - 2s 48ms/step - loss: 9.6171e-04\n",
      "Epoch 169/200\n",
      "38/38 [==============================] - 2s 47ms/step - loss: 0.0011\n",
      "Epoch 170/200\n",
      "38/38 [==============================] - 2s 48ms/step - loss: 0.0013\n",
      "Epoch 171/200\n",
      "38/38 [==============================] - 2s 49ms/step - loss: 0.0011\n",
      "Epoch 172/200\n",
      "38/38 [==============================] - 2s 47ms/step - loss: 0.0012\n",
      "Epoch 173/200\n",
      "38/38 [==============================] - 2s 47ms/step - loss: 9.9160e-04\n",
      "Epoch 174/200\n",
      "38/38 [==============================] - 2s 48ms/step - loss: 9.9335e-04\n",
      "Epoch 175/200\n",
      "38/38 [==============================] - 2s 49ms/step - loss: 0.0010\n",
      "Epoch 176/200\n",
      "38/38 [==============================] - 2s 48ms/step - loss: 0.0011\n",
      "Epoch 177/200\n",
      "38/38 [==============================] - 2s 47ms/step - loss: 0.0011\n",
      "Epoch 178/200\n",
      "38/38 [==============================] - 2s 48ms/step - loss: 0.0011\n",
      "Epoch 179/200\n",
      "38/38 [==============================] - 2s 47ms/step - loss: 0.0010\n",
      "Epoch 180/200\n",
      "38/38 [==============================] - 2s 48ms/step - loss: 0.0011\n",
      "Epoch 181/200\n",
      "38/38 [==============================] - 2s 48ms/step - loss: 0.0010\n",
      "Epoch 182/200\n",
      "38/38 [==============================] - 2s 49ms/step - loss: 0.0011\n",
      "Epoch 183/200\n",
      "38/38 [==============================] - 2s 48ms/step - loss: 0.0011\n",
      "Epoch 184/200\n",
      "38/38 [==============================] - 2s 48ms/step - loss: 0.0011\n",
      "Epoch 185/200\n",
      "38/38 [==============================] - 2s 48ms/step - loss: 0.0010\n",
      "Epoch 186/200\n",
      "38/38 [==============================] - 2s 48ms/step - loss: 0.0010\n",
      "Epoch 187/200\n",
      "38/38 [==============================] - 2s 48ms/step - loss: 0.0012\n",
      "Epoch 188/200\n",
      "38/38 [==============================] - 2s 49ms/step - loss: 0.0010\n",
      "Epoch 189/200\n",
      "38/38 [==============================] - 2s 48ms/step - loss: 0.0010\n",
      "Epoch 190/200\n",
      "38/38 [==============================] - 2s 48ms/step - loss: 0.0011\n",
      "Epoch 191/200\n",
      "38/38 [==============================] - 2s 48ms/step - loss: 0.0011\n",
      "Epoch 192/200\n",
      "38/38 [==============================] - 2s 47ms/step - loss: 9.5206e-04\n",
      "Epoch 193/200\n",
      "38/38 [==============================] - 2s 47ms/step - loss: 9.4923e-04\n",
      "Epoch 194/200\n",
      "38/38 [==============================] - 2s 49ms/step - loss: 9.5373e-04\n",
      "Epoch 195/200\n",
      "38/38 [==============================] - 2s 48ms/step - loss: 0.0010\n",
      "Epoch 196/200\n",
      "38/38 [==============================] - 2s 47ms/step - loss: 9.6589e-04\n",
      "Epoch 197/200\n",
      "38/38 [==============================] - 2s 47ms/step - loss: 0.0011\n",
      "Epoch 198/200\n",
      "38/38 [==============================] - 2s 47ms/step - loss: 0.0011\n",
      "Epoch 199/200\n"
     ]
    },
    {
     "name": "stdout",
     "output_type": "stream",
     "text": [
      "38/38 [==============================] - 2s 48ms/step - loss: 0.0011\n",
      "Epoch 200/200\n",
      "38/38 [==============================] - 2s 49ms/step - loss: 0.0011\n"
     ]
    },
    {
     "data": {
      "text/plain": [
       "<keras.callbacks.History at 0x1e4feed9608>"
      ]
     },
     "execution_count": 59,
     "metadata": {},
     "output_type": "execute_result"
    }
   ],
   "source": [
    "regressor.fit(X_train, y_train, epochs=200, batch_size=32)"
   ]
  },
  {
   "cell_type": "markdown",
   "id": "5e33b1df",
   "metadata": {},
   "source": [
    "# Making the Pridictions"
   ]
  },
  {
   "cell_type": "code",
   "execution_count": 60,
   "id": "6063f9c4",
   "metadata": {},
   "outputs": [
    {
     "data": {
      "text/html": [
       "<div>\n",
       "<style scoped>\n",
       "    .dataframe tbody tr th:only-of-type {\n",
       "        vertical-align: middle;\n",
       "    }\n",
       "\n",
       "    .dataframe tbody tr th {\n",
       "        vertical-align: top;\n",
       "    }\n",
       "\n",
       "    .dataframe thead th {\n",
       "        text-align: right;\n",
       "    }\n",
       "</style>\n",
       "<table border=\"1\" class=\"dataframe\">\n",
       "  <thead>\n",
       "    <tr style=\"text-align: right;\">\n",
       "      <th></th>\n",
       "      <th>Date</th>\n",
       "      <th>Open</th>\n",
       "      <th>High</th>\n",
       "      <th>Low</th>\n",
       "      <th>Close</th>\n",
       "      <th>Volume</th>\n",
       "    </tr>\n",
       "  </thead>\n",
       "  <tbody>\n",
       "    <tr>\n",
       "      <th>0</th>\n",
       "      <td>1/3/2017</td>\n",
       "      <td>778.81</td>\n",
       "      <td>789.63</td>\n",
       "      <td>775.80</td>\n",
       "      <td>786.14</td>\n",
       "      <td>1,657,300</td>\n",
       "    </tr>\n",
       "    <tr>\n",
       "      <th>1</th>\n",
       "      <td>1/4/2017</td>\n",
       "      <td>788.36</td>\n",
       "      <td>791.34</td>\n",
       "      <td>783.16</td>\n",
       "      <td>786.90</td>\n",
       "      <td>1,073,000</td>\n",
       "    </tr>\n",
       "    <tr>\n",
       "      <th>2</th>\n",
       "      <td>1/5/2017</td>\n",
       "      <td>786.08</td>\n",
       "      <td>794.48</td>\n",
       "      <td>785.02</td>\n",
       "      <td>794.02</td>\n",
       "      <td>1,335,200</td>\n",
       "    </tr>\n",
       "    <tr>\n",
       "      <th>3</th>\n",
       "      <td>1/6/2017</td>\n",
       "      <td>795.26</td>\n",
       "      <td>807.90</td>\n",
       "      <td>792.20</td>\n",
       "      <td>806.15</td>\n",
       "      <td>1,640,200</td>\n",
       "    </tr>\n",
       "    <tr>\n",
       "      <th>4</th>\n",
       "      <td>1/9/2017</td>\n",
       "      <td>806.40</td>\n",
       "      <td>809.97</td>\n",
       "      <td>802.83</td>\n",
       "      <td>806.65</td>\n",
       "      <td>1,272,400</td>\n",
       "    </tr>\n",
       "  </tbody>\n",
       "</table>\n",
       "</div>"
      ],
      "text/plain": [
       "       Date    Open    High     Low   Close     Volume\n",
       "0  1/3/2017  778.81  789.63  775.80  786.14  1,657,300\n",
       "1  1/4/2017  788.36  791.34  783.16  786.90  1,073,000\n",
       "2  1/5/2017  786.08  794.48  785.02  794.02  1,335,200\n",
       "3  1/6/2017  795.26  807.90  792.20  806.15  1,640,200\n",
       "4  1/9/2017  806.40  809.97  802.83  806.65  1,272,400"
      ]
     },
     "execution_count": 60,
     "metadata": {},
     "output_type": "execute_result"
    }
   ],
   "source": [
    "test_set= pd.read_csv(\"Google_Stock_Price_Test.csv\")\n",
    "test_set.head()"
   ]
  },
  {
   "cell_type": "code",
   "execution_count": 61,
   "id": "cf526271",
   "metadata": {},
   "outputs": [],
   "source": [
    "test = test_set.iloc[:, 1:2].values"
   ]
  },
  {
   "cell_type": "code",
   "execution_count": 62,
   "id": "c5ad4345",
   "metadata": {},
   "outputs": [
    {
     "data": {
      "text/plain": [
       "array([[778.81],\n",
       "       [788.36],\n",
       "       [786.08],\n",
       "       [795.26],\n",
       "       [806.4 ],\n",
       "       [807.86],\n",
       "       [805.  ],\n",
       "       [807.14],\n",
       "       [807.48],\n",
       "       [807.08],\n",
       "       [805.81],\n",
       "       [805.12],\n",
       "       [806.91],\n",
       "       [807.25],\n",
       "       [822.3 ],\n",
       "       [829.62],\n",
       "       [837.81],\n",
       "       [834.71],\n",
       "       [814.66],\n",
       "       [796.86]])"
      ]
     },
     "execution_count": 62,
     "metadata": {},
     "output_type": "execute_result"
    }
   ],
   "source": [
    "test"
   ]
  },
  {
   "cell_type": "code",
   "execution_count": 65,
   "id": "019bee45",
   "metadata": {},
   "outputs": [],
   "source": [
    "train_test_data = pd.concat(objs=(traning_set[\"Open\"], test_set[\"Open\"]), axis=0)"
   ]
  },
  {
   "cell_type": "code",
   "execution_count": 66,
   "id": "36c5225b",
   "metadata": {},
   "outputs": [
    {
     "data": {
      "text/plain": [
       "0     325.25\n",
       "1     331.27\n",
       "2     329.83\n",
       "3     328.34\n",
       "4     322.04\n",
       "       ...  \n",
       "15    829.62\n",
       "16    837.81\n",
       "17    834.71\n",
       "18    814.66\n",
       "19    796.86\n",
       "Name: Open, Length: 1278, dtype: float64"
      ]
     },
     "execution_count": 66,
     "metadata": {},
     "output_type": "execute_result"
    }
   ],
   "source": [
    "train_test_data"
   ]
  },
  {
   "cell_type": "code",
   "execution_count": 67,
   "id": "0f1f56ed",
   "metadata": {},
   "outputs": [],
   "source": [
    "inputs = train_test_data[len(train_test_data)- len(test_set)-60 : ].values"
   ]
  },
  {
   "cell_type": "code",
   "execution_count": 68,
   "id": "5653c9b7",
   "metadata": {},
   "outputs": [],
   "source": [
    "inputs = inputs.reshape(-1, 1)"
   ]
  },
  {
   "cell_type": "code",
   "execution_count": 69,
   "id": "02b4eef1",
   "metadata": {},
   "outputs": [],
   "source": [
    "inputs = scaler.transform(inputs)"
   ]
  },
  {
   "cell_type": "code",
   "execution_count": 70,
   "id": "795f0788",
   "metadata": {},
   "outputs": [],
   "source": [
    "X_test = []\n",
    "\n",
    "# Creating a Data Structure with 60 timesteps and 1 output\n",
    "for i in range(60, 80):\n",
    "    X_test.append(inputs[i-60 : i, 0])\n",
    "    \n",
    "X_test = np.array(X_test)\n"
   ]
  },
  {
   "cell_type": "code",
   "execution_count": 71,
   "id": "6b9080fa",
   "metadata": {},
   "outputs": [],
   "source": [
    "X_test =  np.reshape(X_test, (X_test.shape[0], X_test.shape[1], 1))"
   ]
  },
  {
   "cell_type": "code",
   "execution_count": 72,
   "id": "ab572c49",
   "metadata": {},
   "outputs": [],
   "source": [
    "pred_stock_price = regressor.predict(X_test)"
   ]
  },
  {
   "cell_type": "code",
   "execution_count": 73,
   "id": "71b46d4f",
   "metadata": {},
   "outputs": [],
   "source": [
    "pred_stock_price = scaler.inverse_transform(pred_stock_price)"
   ]
  },
  {
   "cell_type": "markdown",
   "id": "3d000d42",
   "metadata": {},
   "source": [
    "# Visualizaing The Predicted Values"
   ]
  },
  {
   "cell_type": "code",
   "execution_count": 74,
   "id": "4a1a59c5",
   "metadata": {},
   "outputs": [
    {
     "data": {
      "image/png": "[encoded data removed]",
      "text/plain": [
       "<Figure size 432x288 with 1 Axes>"
      ]
     },
     "metadata": {
      "needs_background": "light"
     },
     "output_type": "display_data"
    }
   ],
   "source": [
    "plt.plot(test, color=\"red\", label=\"Real Google Stock Price\")\n",
    "plt.plot(pred_stock_price, color=\"blue\", label=\"Predicted Google Stock Price\")\n",
    "plt.title(\"Google Stock Price Prediction\")\n",
    "plt.xlabel(\"Time\")\n",
    "plt.ylabel(\"Price\")\n",
    "plt.legend()\n",
    "plt.show()"
   ]
  },
  {
   "cell_type": "code",
   "execution_count": null,
   "id": "fdc8e5d4",
   "metadata": {},
   "outputs": [],
   "source": []
  }
 ],
 "metadata": {
  "kernelspec": {
   "display_name": "Python 3 (ipykernel)",
   "language": "python",
   "name": "python3"
  },
  "language_info": {
   "codemirror_mode": {
    "name": "ipython",
    "version": 3
   },
   "file_extension": ".py",
   "mimetype": "text/x-python",
   "name": "python",
   "nbconvert_exporter": "python",
   "pygments_lexer": "ipython3",
   "version": "3.7.9"
  }
 },
 "nbformat": 4,
 "nbformat_minor": 5
}
