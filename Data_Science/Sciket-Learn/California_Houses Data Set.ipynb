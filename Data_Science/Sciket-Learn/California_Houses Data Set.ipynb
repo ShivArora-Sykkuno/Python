{
 "cells": [
  {
   "cell_type": "code",
   "execution_count": 1,
   "id": "a59ada0f",
   "metadata": {},
   "outputs": [],
   "source": [
    "import pandas as pd\n",
    "import numpy as np"
   ]
  },
  {
   "cell_type": "code",
   "execution_count": 3,
   "id": "457f9b07",
   "metadata": {},
   "outputs": [
    {
     "name": "stdout",
     "output_type": "stream",
     "text": [
      "Normal Score:  0.8083212359139857\n",
      "Cross Validation Score: [0.51494825 0.707153   0.7432692  0.62691826 0.68210432]\n"
     ]
    }
   ],
   "source": [
    "from sklearn.model_selection import cross_val_score, train_test_split\n",
    "from sklearn.ensemble import RandomForestRegressor\n",
    "from sklearn.datasets import fetch_california_housing\n",
    "\n",
    "np.random.seed(42)\n",
    "\n",
    "# Fetching the data\n",
    "data = fetch_california_housing()\n",
    "\n",
    "# Putting the Data into a Dataframe\n",
    "housing =  pd.DataFrame(data[\"data\"] , columns=data[\"feature_names\"])\n",
    "housing[\"MedHouseVal\"] = data[\"target\"]\n",
    "\n",
    "# Creating the X and Y variable\n",
    "X = housing.drop(\"MedHouseVal\", axis = 1)\n",
    "Y = housing[\"MedHouseVal\"]\n",
    "\n",
    "# Splitting the Data into Train and Test\n",
    "x_train, x_test, y_train, y_test = train_test_split(X, Y, test_size=0.2)\n",
    "\n",
    "# Making the Model in use\n",
    "clf = RandomForestRegressor(n_estimators=1000)\n",
    "\n",
    "# Fitting the Data into the model\n",
    "clf.fit(x_train, y_train)\n",
    "\n",
    "# Calculating the Normal Score\n",
    "print(\"Normal Score: \", clf.score(x_test, y_test))\n",
    "\n",
    "# Calculating the CROSS VALIDATION SCORE\n",
    "# (This takes the test input then runs the number of cv times as it take the test and train input cv times from different places\n",
    "# from the DataSet)\n",
    "print(\"Cross Validation Score:\", cross_val_score(clf, X, Y, cv = 5))"
   ]
  },
  {
   "cell_type": "code",
   "execution_count": null,
   "id": "60385799",
   "metadata": {},
   "outputs": [],
   "source": []
  }
 ],
 "metadata": {
  "kernelspec": {
   "display_name": "Python 3 (ipykernel)",
   "language": "python",
   "name": "python3"
  },
  "language_info": {
   "codemirror_mode": {
    "name": "ipython",
    "version": 3
   },
   "file_extension": ".py",
   "mimetype": "text/x-python",
   "name": "python",
   "nbconvert_exporter": "python",
   "pygments_lexer": "ipython3",
   "version": "3.8.10"
  }
 },
 "nbformat": 4,
 "nbformat_minor": 5
}
